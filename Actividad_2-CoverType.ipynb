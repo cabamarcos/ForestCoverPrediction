{
 "cells": [
  {
   "attachments": {
    "image.png": {
     "image/png": "[encoded data removed]"
    }
   },
   "cell_type": "markdown",
   "id": "d527775b",
   "metadata": {},
   "source": [
    "![image.png](attachment:image.png)\n",
    "\n",
    "_Aprendizaje Automático_\n",
    "\n",
    "_Máster Universitario en Inteligencia Artificial_\n",
    "\n",
    "# Actividad: Clasificación con máquinas de vectores de soporte y random forest\n",
    "\n",
    "## Objetivos\n",
    "\n",
    "Mediante esta actividad se pretende que ponga en práctica la creación de modelos basados en máquinas de vector de soporte y random forest. El objetivo es comprender de forma práctica con un problema determinado las diferencias que existen a la hora de entrenar los diferentes modelos.\n",
    "\n",
    "- Comprender el tratamiento de datos que hay que realizar para los modelos de clasificación.\n",
    "- Entender y aplicar el algoritmo de Random Forest a un problema de clasificación.\n",
    "- Entender y aplicar el algoritmo de Support Vector Machine a un problema de clasificación.\n",
    "- Evaluar y analizar los resultados de los clasificadores.\n",
    "- Investigar la aplicación de los modelos de clasificación a problemas reales.\n",
    "\n",
    "\n",
    "## Descripción de la actividad\n",
    "\n",
    "Debes completar los espacios indicados en el notebook con el código solicitado y la respuesta, en función de lo que se solicite. Ten encuenta que las celdas vacías indican cuántas líneas debe ocupar la respuesta, por lo general no más de una línea.\n",
    "\n",
    "El conjunto de datos con el que vamos a trabajar se encuentra en el siguiente enlace: https://archive.ics.uci.edu/dataset/31/covertype\n",
    "\n",
    "Este dataset ha sido generado para predecir el tipo de cubierta forestal únicamente a partir de variables cartográficas (sin datos de sensores remotos). El tipo de cubierta forestal real para una observación determinada (celda de 30 x 30 metros) se determinó a partir de los datos del Sistema de información de recursos (RIS) de la Región 2 del Servicio Forestal de EE. UU. (USFS). Las variables independientes se derivaron de datos obtenidos originalmente del Servicio Geológico de EE. UU. (USGS) y de datos del USFS. Los datos están en forma original (no escalados) y contienen columnas binarias (0 o 1) de datos para variables cualitativas independientes (áreas silvestres y tipos de suelo).\n",
    "Para ampliar información sobre el dataset y su origen, recomendamos leer la descripción completa del dataset en el enlace del repositorio. l.\n",
    "\n",
    "El objetivo de la clasificación será detectar el tipo de suelo.\n",
    "\n",
    "### Tareas que se deben realizar\n",
    "\n",
    "- Análisis descriptivo de los datos:\n",
    "   - Debe completarse el código solicitado y responder a las preguntas. Todo ello en el notebook dado como base.\n",
    "- Clasificación:\n",
    "  - Debe completarse el código solicitado y responder a las preguntas. Todo ello en el notebook dado como base.\n",
    "- Investigación:\n",
    "  - Buscar un artículo científico (https://scholar.google.es/) con un caso de uso de clasificación empleando una de las dos técnicas (o ambas) vistas en la actividad. Los artículos deben estar en revistas científicas, y deben ser posteriores a 2015. No debe utilizar técnicas de Deep Learning.\n",
    "  - Para el artículo indicar:\n",
    "    - Objetivo: cuál es el objetivo de la investigación, es decir a qué problema real está aplicando la clasificación.\n",
    "    - Cómo utilizan las técnicas de clasificación, si realizan alguna adaptación de los algoritmos indicarse.\n",
    "    - Principales resultados de la aplicación y de la investigación.\n"
   ]
  },
  {
   "cell_type": "markdown",
   "id": "c399e1d6",
   "metadata": {},
   "source": [
    "### Análisis descriptivo de los datos"
   ]
  },
  {
   "cell_type": "code",
   "execution_count": 1,
   "id": "5e40a217",
   "metadata": {},
   "outputs": [
    {
     "name": "stderr",
     "output_type": "stream",
     "text": [
      "\n",
      "[notice] A new release of pip is available: 24.3.1 -> 25.0.1\n",
      "[notice] To update, run: C:\\Users\\Usuario\\AppData\\Local\\Microsoft\\WindowsApps\\PythonSoftwareFoundation.Python.3.11_qbz5n2kfra8p0\\python.exe -m pip install --upgrade pip\n"
     ]
    },
    {
     "name": "stdout",
     "output_type": "stream",
     "text": [
      "Requirement already satisfied: ucimlrepo in c:\\users\\usuario\\appdata\\local\\packages\\pythonsoftwarefoundation.python.3.11_qbz5n2kfra8p0\\localcache\\local-packages\\python311\\site-packages (0.0.7)\n",
      "Requirement already satisfied: pandas>=1.0.0 in c:\\users\\usuario\\appdata\\local\\packages\\pythonsoftwarefoundation.python.3.11_qbz5n2kfra8p0\\localcache\\local-packages\\python311\\site-packages (from ucimlrepo) (2.2.3)\n",
      "Requirement already satisfied: certifi>=2020.12.5 in c:\\users\\usuario\\appdata\\local\\packages\\pythonsoftwarefoundation.python.3.11_qbz5n2kfra8p0\\localcache\\local-packages\\python311\\site-packages (from ucimlrepo) (2024.8.30)\n",
      "Requirement already satisfied: numpy>=1.23.2 in c:\\users\\usuario\\appdata\\local\\packages\\pythonsoftwarefoundation.python.3.11_qbz5n2kfra8p0\\localcache\\local-packages\\python311\\site-packages (from pandas>=1.0.0->ucimlrepo) (2.0.2)\n",
      "Requirement already satisfied: python-dateutil>=2.8.2 in c:\\users\\usuario\\appdata\\local\\packages\\pythonsoftwarefoundation.python.3.11_qbz5n2kfra8p0\\localcache\\local-packages\\python311\\site-packages (from pandas>=1.0.0->ucimlrepo) (2.9.0.post0)\n",
      "Requirement already satisfied: pytz>=2020.1 in c:\\users\\usuario\\appdata\\local\\packages\\pythonsoftwarefoundation.python.3.11_qbz5n2kfra8p0\\localcache\\local-packages\\python311\\site-packages (from pandas>=1.0.0->ucimlrepo) (2024.2)\n",
      "Requirement already satisfied: tzdata>=2022.7 in c:\\users\\usuario\\appdata\\local\\packages\\pythonsoftwarefoundation.python.3.11_qbz5n2kfra8p0\\localcache\\local-packages\\python311\\site-packages (from pandas>=1.0.0->ucimlrepo) (2024.2)\n",
      "Requirement already satisfied: six>=1.5 in c:\\users\\usuario\\appdata\\local\\packages\\pythonsoftwarefoundation.python.3.11_qbz5n2kfra8p0\\localcache\\local-packages\\python311\\site-packages (from python-dateutil>=2.8.2->pandas>=1.0.0->ucimlrepo) (1.16.0)\n"
     ]
    }
   ],
   "source": [
    "!pip3 install -U ucimlrepo\n",
    "from ucimlrepo import fetch_ucirepo"
   ]
  },
  {
   "cell_type": "code",
   "execution_count": 2,
   "id": "ed8056a1",
   "metadata": {},
   "outputs": [],
   "source": [
    "import numpy as np\n",
    "import pandas as pd\n",
    "from matplotlib import pyplot as plt\n",
    "import seaborn as sns\n",
    "\n",
    "import scipy.stats as stats\n",
    "from scipy.stats import chi2_contingency\n",
    "\n",
    "from sklearn.preprocessing import LabelEncoder\n",
    "from sklearn.preprocessing import MinMaxScaler\n",
    "\n",
    "from sklearn.model_selection import train_test_split\n",
    "from sklearn.model_selection import GridSearchCV\n",
    "from sklearn.ensemble import RandomForestClassifier\n",
    "from sklearn.svm import SVC\n",
    "\n",
    "from sklearn.metrics import classification_report\n",
    "from sklearn.metrics import confusion_matrix\n",
    "from sklearn.metrics import accuracy_score"
   ]
  },
  {
   "cell_type": "code",
   "execution_count": 3,
   "id": "6b76602d",
   "metadata": {},
   "outputs": [],
   "source": [
    "covertype = fetch_ucirepo(id=31)\n",
    "df = pd.DataFrame(data=covertype.data.features)\n",
    "df['Cover_type'] = covertype.data.targets\n",
    "df.head()\n",
    "df.to_csv('covertype.csv', index=False)"
   ]
  },
  {
   "cell_type": "code",
   "execution_count": 4,
   "id": "0401bc29",
   "metadata": {},
   "outputs": [
    {
     "data": {
      "text/html": [
       "<div>\n",
       "<style scoped>\n",
       "    .dataframe tbody tr th:only-of-type {\n",
       "        vertical-align: middle;\n",
       "    }\n",
       "\n",
       "    .dataframe tbody tr th {\n",
       "        vertical-align: top;\n",
       "    }\n",
       "\n",
       "    .dataframe thead th {\n",
       "        text-align: right;\n",
       "    }\n",
       "</style>\n",
       "<table border=\"1\" class=\"dataframe\">\n",
       "  <thead>\n",
       "    <tr style=\"text-align: right;\">\n",
       "      <th></th>\n",
       "      <th>Elevation</th>\n",
       "      <th>Aspect</th>\n",
       "      <th>Slope</th>\n",
       "      <th>Horizontal_Distance_To_Hydrology</th>\n",
       "      <th>Vertical_Distance_To_Hydrology</th>\n",
       "      <th>Horizontal_Distance_To_Roadways</th>\n",
       "      <th>Hillshade_9am</th>\n",
       "      <th>Hillshade_Noon</th>\n",
       "      <th>Hillshade_3pm</th>\n",
       "      <th>Horizontal_Distance_To_Fire_Points</th>\n",
       "      <th>...</th>\n",
       "      <th>Soil_Type35</th>\n",
       "      <th>Soil_Type36</th>\n",
       "      <th>Soil_Type37</th>\n",
       "      <th>Soil_Type38</th>\n",
       "      <th>Soil_Type39</th>\n",
       "      <th>Soil_Type40</th>\n",
       "      <th>Wilderness_Area2</th>\n",
       "      <th>Wilderness_Area3</th>\n",
       "      <th>Wilderness_Area4</th>\n",
       "      <th>Cover_type</th>\n",
       "    </tr>\n",
       "  </thead>\n",
       "  <tbody>\n",
       "    <tr>\n",
       "      <th>0</th>\n",
       "      <td>2596</td>\n",
       "      <td>51</td>\n",
       "      <td>3</td>\n",
       "      <td>258</td>\n",
       "      <td>0</td>\n",
       "      <td>510</td>\n",
       "      <td>221</td>\n",
       "      <td>232</td>\n",
       "      <td>148</td>\n",
       "      <td>6279</td>\n",
       "      <td>...</td>\n",
       "      <td>0</td>\n",
       "      <td>0</td>\n",
       "      <td>0</td>\n",
       "      <td>0</td>\n",
       "      <td>0</td>\n",
       "      <td>0</td>\n",
       "      <td>0</td>\n",
       "      <td>0</td>\n",
       "      <td>0</td>\n",
       "      <td>5</td>\n",
       "    </tr>\n",
       "    <tr>\n",
       "      <th>1</th>\n",
       "      <td>2590</td>\n",
       "      <td>56</td>\n",
       "      <td>2</td>\n",
       "      <td>212</td>\n",
       "      <td>-6</td>\n",
       "      <td>390</td>\n",
       "      <td>220</td>\n",
       "      <td>235</td>\n",
       "      <td>151</td>\n",
       "      <td>6225</td>\n",
       "      <td>...</td>\n",
       "      <td>0</td>\n",
       "      <td>0</td>\n",
       "      <td>0</td>\n",
       "      <td>0</td>\n",
       "      <td>0</td>\n",
       "      <td>0</td>\n",
       "      <td>0</td>\n",
       "      <td>0</td>\n",
       "      <td>0</td>\n",
       "      <td>5</td>\n",
       "    </tr>\n",
       "    <tr>\n",
       "      <th>2</th>\n",
       "      <td>2804</td>\n",
       "      <td>139</td>\n",
       "      <td>9</td>\n",
       "      <td>268</td>\n",
       "      <td>65</td>\n",
       "      <td>3180</td>\n",
       "      <td>234</td>\n",
       "      <td>238</td>\n",
       "      <td>135</td>\n",
       "      <td>6121</td>\n",
       "      <td>...</td>\n",
       "      <td>0</td>\n",
       "      <td>0</td>\n",
       "      <td>0</td>\n",
       "      <td>0</td>\n",
       "      <td>0</td>\n",
       "      <td>0</td>\n",
       "      <td>0</td>\n",
       "      <td>0</td>\n",
       "      <td>0</td>\n",
       "      <td>2</td>\n",
       "    </tr>\n",
       "    <tr>\n",
       "      <th>3</th>\n",
       "      <td>2785</td>\n",
       "      <td>155</td>\n",
       "      <td>18</td>\n",
       "      <td>242</td>\n",
       "      <td>118</td>\n",
       "      <td>3090</td>\n",
       "      <td>238</td>\n",
       "      <td>238</td>\n",
       "      <td>122</td>\n",
       "      <td>6211</td>\n",
       "      <td>...</td>\n",
       "      <td>0</td>\n",
       "      <td>0</td>\n",
       "      <td>0</td>\n",
       "      <td>0</td>\n",
       "      <td>0</td>\n",
       "      <td>0</td>\n",
       "      <td>0</td>\n",
       "      <td>0</td>\n",
       "      <td>0</td>\n",
       "      <td>2</td>\n",
       "    </tr>\n",
       "    <tr>\n",
       "      <th>4</th>\n",
       "      <td>2595</td>\n",
       "      <td>45</td>\n",
       "      <td>2</td>\n",
       "      <td>153</td>\n",
       "      <td>-1</td>\n",
       "      <td>391</td>\n",
       "      <td>220</td>\n",
       "      <td>234</td>\n",
       "      <td>150</td>\n",
       "      <td>6172</td>\n",
       "      <td>...</td>\n",
       "      <td>0</td>\n",
       "      <td>0</td>\n",
       "      <td>0</td>\n",
       "      <td>0</td>\n",
       "      <td>0</td>\n",
       "      <td>0</td>\n",
       "      <td>0</td>\n",
       "      <td>0</td>\n",
       "      <td>0</td>\n",
       "      <td>5</td>\n",
       "    </tr>\n",
       "  </tbody>\n",
       "</table>\n",
       "<p>5 rows × 55 columns</p>\n",
       "</div>"
      ],
      "text/plain": [
       "   Elevation  Aspect  Slope  Horizontal_Distance_To_Hydrology  \\\n",
       "0       2596      51      3                               258   \n",
       "1       2590      56      2                               212   \n",
       "2       2804     139      9                               268   \n",
       "3       2785     155     18                               242   \n",
       "4       2595      45      2                               153   \n",
       "\n",
       "   Vertical_Distance_To_Hydrology  Horizontal_Distance_To_Roadways  \\\n",
       "0                               0                              510   \n",
       "1                              -6                              390   \n",
       "2                              65                             3180   \n",
       "3                             118                             3090   \n",
       "4                              -1                              391   \n",
       "\n",
       "   Hillshade_9am  Hillshade_Noon  Hillshade_3pm  \\\n",
       "0            221             232            148   \n",
       "1            220             235            151   \n",
       "2            234             238            135   \n",
       "3            238             238            122   \n",
       "4            220             234            150   \n",
       "\n",
       "   Horizontal_Distance_To_Fire_Points  ...  Soil_Type35  Soil_Type36  \\\n",
       "0                                6279  ...            0            0   \n",
       "1                                6225  ...            0            0   \n",
       "2                                6121  ...            0            0   \n",
       "3                                6211  ...            0            0   \n",
       "4                                6172  ...            0            0   \n",
       "\n",
       "   Soil_Type37  Soil_Type38  Soil_Type39  Soil_Type40  Wilderness_Area2  \\\n",
       "0            0            0            0            0                 0   \n",
       "1            0            0            0            0                 0   \n",
       "2            0            0            0            0                 0   \n",
       "3            0            0            0            0                 0   \n",
       "4            0            0            0            0                 0   \n",
       "\n",
       "   Wilderness_Area3  Wilderness_Area4  Cover_type  \n",
       "0                 0                 0           5  \n",
       "1                 0                 0           5  \n",
       "2                 0                 0           2  \n",
       "3                 0                 0           2  \n",
       "4                 0                 0           5  \n",
       "\n",
       "[5 rows x 55 columns]"
      ]
     },
     "execution_count": 4,
     "metadata": {},
     "output_type": "execute_result"
    }
   ],
   "source": [
    "#cargar dataset desde csv\n",
    "df = pd.read_csv('covertype.csv')\n",
    "df.head()"
   ]
  },
  {
   "cell_type": "markdown",
   "id": "2b5650ab",
   "metadata": {},
   "source": [
    "¿Cuántas instancias de datos tiene el dataset?"
   ]
  },
  {
   "cell_type": "code",
   "execution_count": null,
   "id": "c21b23d3",
   "metadata": {},
   "outputs": [
    {
     "name": "stdout",
     "output_type": "stream",
     "text": [
      "Numero de instancias:  581012\n"
     ]
    }
   ],
   "source": [
    "## cuantas instancias tiene el df\n",
    "print(\"Numero de instancias: \", df.shape[0])"
   ]
  },
  {
   "cell_type": "markdown",
   "id": "1869d474",
   "metadata": {},
   "source": [
    "Según podemos ver en el output, tenemos 581012 instancias"
   ]
  },
  {
   "cell_type": "markdown",
   "id": "26e1d966",
   "metadata": {},
   "source": [
    "¿Cuántas variables continuas hay en el dataset?"
   ]
  },
  {
   "cell_type": "markdown",
   "id": "f7e1b258",
   "metadata": {},
   "source": [
    "En este dataset se ve claramente que las variables categóricas tienen valores de 0 o 1, mientras que las continuas tienen valores distintos. En este caso la variable cover type también es categórica ya que tiene vaores del 1 al 7."
   ]
  },
  {
   "cell_type": "code",
   "execution_count": null,
   "id": "9510e492",
   "metadata": {},
   "outputs": [
    {
     "name": "stdout",
     "output_type": "stream",
     "text": [
      "Variables contínuas:  ['Elevation', 'Aspect', 'Slope', 'Horizontal_Distance_To_Hydrology', 'Vertical_Distance_To_Hydrology', 'Horizontal_Distance_To_Roadways', 'Hillshade_9am', 'Hillshade_Noon', 'Hillshade_3pm', 'Horizontal_Distance_To_Fire_Points']\n",
      "Número de variables contínuas:  10\n"
     ]
    }
   ],
   "source": [
    "## Lista de variables categoricas\n",
    "categorical = [col for col in df.columns if df[col].nunique() <= 7]\n",
    "\n",
    "## Lista de variables en el df\n",
    "variables = [col for col in df.columns]\n",
    "\n",
    "#quitamos las variables categoricas de la lista para obtener las variables continuas\n",
    "\n",
    "continuous = [col for col in variables if col not in categorical]\n",
    "print(\"Variables contínuas: \", continuous)\n",
    "print(\"Número de variables contínuas: \", len(continuous))\n"
   ]
  },
  {
   "cell_type": "markdown",
   "id": "29b8ec58",
   "metadata": {},
   "source": [
    "Hay 10 variables continuas"
   ]
  },
  {
   "cell_type": "markdown",
   "id": "12c2a9c8",
   "metadata": {},
   "source": [
    "¿Cuántas variables categóricas hay en el dataset? Indica las categorías."
   ]
  },
  {
   "cell_type": "code",
   "execution_count": null,
   "id": "a8b9782f",
   "metadata": {},
   "outputs": [
    {
     "name": "stdout",
     "output_type": "stream",
     "text": [
      "Variables categóricas:  ['Wilderness_Area1', 'Soil_Type1', 'Soil_Type2', 'Soil_Type3', 'Soil_Type4', 'Soil_Type5', 'Soil_Type6', 'Soil_Type7', 'Soil_Type8', 'Soil_Type9', 'Soil_Type10', 'Soil_Type11', 'Soil_Type12', 'Soil_Type13', 'Soil_Type14', 'Soil_Type15', 'Soil_Type16', 'Soil_Type17', 'Soil_Type18', 'Soil_Type19', 'Soil_Type20', 'Soil_Type21', 'Soil_Type22', 'Soil_Type23', 'Soil_Type24', 'Soil_Type25', 'Soil_Type26', 'Soil_Type27', 'Soil_Type28', 'Soil_Type29', 'Soil_Type30', 'Soil_Type31', 'Soil_Type32', 'Soil_Type33', 'Soil_Type34', 'Soil_Type35', 'Soil_Type36', 'Soil_Type37', 'Soil_Type38', 'Soil_Type39', 'Soil_Type40', 'Wilderness_Area2', 'Wilderness_Area3', 'Wilderness_Area4', 'Cover_type']\n",
      "Número de variables categóricas:  45\n"
     ]
    }
   ],
   "source": [
    "print(\"Variables categóricas: \", categorical)\n",
    "\n",
    "print(\"Número de variables categóricas: \", len(categorical))\n"
   ]
  },
  {
   "cell_type": "markdown",
   "id": "22955251",
   "metadata": {},
   "source": [
    "Hay 45 variables categóricas"
   ]
  },
  {
   "cell_type": "markdown",
   "id": "9b259f7a",
   "metadata": {},
   "source": [
    "¿Cómo es la distribución de etiquetas de clase en el dataset? Con estos datos, ¿podríamos decir que el dataset está balanceado?"
   ]
  },
  {
   "cell_type": "code",
   "execution_count": null,
   "id": "0e6b9607",
   "metadata": {},
   "outputs": [
    {
     "data": {
      "image/png": "[encoded data removed]",
      "text/plain": [
       "<Figure size 1200x600 with 1 Axes>"
      ]
     },
     "metadata": {},
     "output_type": "display_data"
    }
   ],
   "source": [
    "# distribucion de clases del dataset\n",
    "class_counts = df['Cover_type'].value_counts().sort_index()\n",
    "\n",
    "# Graficamos la distribución\n",
    "plt.figure(figsize=(12, 6))\n",
    "class_counts.plot(kind='bar', color='skyblue', edgecolor='black')\n",
    "plt.title('Distribución de Cover_type', fontsize=16)\n",
    "plt.xlabel('Cover Type', fontsize=14)\n",
    "plt.ylabel('Frecuencia', fontsize=14)\n",
    "plt.xticks(rotation=90, fontsize=10)\n",
    "plt.grid(axis='y', linestyle='--', alpha=0.7)\n",
    "plt.tight_layout()\n",
    "plt.show()"
   ]
  },
  {
   "cell_type": "markdown",
   "id": "f0b45007",
   "metadata": {},
   "source": [
    "Como podemos ver, no es un dataset balanceado. Por lo que si al separar los datos tenemos en cuenta esto, crearemos un mejor modelo."
   ]
  },
  {
   "cell_type": "markdown",
   "id": "f5aa4dd7",
   "metadata": {},
   "source": [
    "¿Existen valores nulos o perdidos en el dataset?"
   ]
  },
  {
   "cell_type": "code",
   "execution_count": null,
   "id": "39995616",
   "metadata": {},
   "outputs": [
    {
     "name": "stdout",
     "output_type": "stream",
     "text": [
      "Valores nulos por columna:\n",
      "Elevation                             0\n",
      "Aspect                                0\n",
      "Slope                                 0\n",
      "Horizontal_Distance_To_Hydrology      0\n",
      "Vertical_Distance_To_Hydrology        0\n",
      "Horizontal_Distance_To_Roadways       0\n",
      "Hillshade_9am                         0\n",
      "Hillshade_Noon                        0\n",
      "Hillshade_3pm                         0\n",
      "Horizontal_Distance_To_Fire_Points    0\n",
      "Wilderness_Area1                      0\n",
      "Soil_Type1                            0\n",
      "Soil_Type2                            0\n",
      "Soil_Type3                            0\n",
      "Soil_Type4                            0\n",
      "Soil_Type5                            0\n",
      "Soil_Type6                            0\n",
      "Soil_Type7                            0\n",
      "Soil_Type8                            0\n",
      "Soil_Type9                            0\n",
      "Soil_Type10                           0\n",
      "Soil_Type11                           0\n",
      "Soil_Type12                           0\n",
      "Soil_Type13                           0\n",
      "Soil_Type14                           0\n",
      "Soil_Type15                           0\n",
      "Soil_Type16                           0\n",
      "Soil_Type17                           0\n",
      "Soil_Type18                           0\n",
      "Soil_Type19                           0\n",
      "Soil_Type20                           0\n",
      "Soil_Type21                           0\n",
      "Soil_Type22                           0\n",
      "Soil_Type23                           0\n",
      "Soil_Type24                           0\n",
      "Soil_Type25                           0\n",
      "Soil_Type26                           0\n",
      "Soil_Type27                           0\n",
      "Soil_Type28                           0\n",
      "Soil_Type29                           0\n",
      "Soil_Type30                           0\n",
      "Soil_Type31                           0\n",
      "Soil_Type32                           0\n",
      "Soil_Type33                           0\n",
      "Soil_Type34                           0\n",
      "Soil_Type35                           0\n",
      "Soil_Type36                           0\n",
      "Soil_Type37                           0\n",
      "Soil_Type38                           0\n",
      "Soil_Type39                           0\n",
      "Soil_Type40                           0\n",
      "Wilderness_Area2                      0\n",
      "Wilderness_Area3                      0\n",
      "Wilderness_Area4                      0\n",
      "Cover_type                            0\n",
      "dtype: int64\n"
     ]
    }
   ],
   "source": [
    "## PON AQUÍ TU CÓDIGO\n",
    "null_values = df.isnull().sum()\n",
    "print(\"Valores nulos por columna:\")\n",
    "print(null_values)"
   ]
  },
  {
   "cell_type": "markdown",
   "id": "150e0efd",
   "metadata": {},
   "source": [
    "No existen valores nulos"
   ]
  },
  {
   "cell_type": "markdown",
   "id": "625ba0c3",
   "metadata": {},
   "source": [
    "¿Existe alguna variable altamente correlacionada con la variable de clase?"
   ]
  },
  {
   "cell_type": "markdown",
   "id": "f2e38d4e",
   "metadata": {},
   "source": [
    "_Nota: Para responder a esto, como es muy dificil ver la matriz de correlaciones, recomendamosfiltar aquellas correlaciones superiores al 0.80 con la variable de clase."
   ]
  },
  {
   "cell_type": "code",
   "execution_count": null,
   "id": "1d61da96",
   "metadata": {},
   "outputs": [
    {
     "data": {
      "image/png": "[encoded data removed]",
      "text/plain": [
       "<Figure size 3000x800 with 2 Axes>"
      ]
     },
     "metadata": {},
     "output_type": "display_data"
    }
   ],
   "source": [
    "correlation_matrix = df.corr(method='spearman').abs()  # Use 'spearman' for non-normal data\n",
    "\n",
    "# Select the target variable (Cover_type)\n",
    "target_correlation = correlation_matrix['Cover_type']\n",
    "# Reshape target_correlation to a 2D array\n",
    "target_correlation_matrix = target_correlation.to_frame().T\n",
    "\n",
    "# Create the heatmap\n",
    "plt.figure(figsize=(30, 8))\n",
    "sns.heatmap(target_correlation_matrix, annot=True, cmap='coolwarm', fmt=\".2f\")\n",
    "plt.title('Heatmap of Correlations with Cover_type')\n",
    "plt.show()"
   ]
  },
  {
   "cell_type": "markdown",
   "id": "5160b6f5",
   "metadata": {},
   "source": [
    "Como podemos ver no hay correlaciones mayores a 49% con la variable a predecir. Pero esto no nos sirve, ya que la correlación de Pearson se calcula cuando la variable objetivo es continua. En este caso no es, por lo que para ver la relación entre nuestra variable objetivo y las otras variables usaremos otros algoritmos."
   ]
  },
  {
   "cell_type": "markdown",
   "id": "88ed3c79",
   "metadata": {},
   "source": [
    "¿Qué tres variables del dataset consideras que pueden influenciar más en la clasificación de los datos?¿Qué pruebas harías para comprobar tus hipótesis? Hazlas."
   ]
  },
  {
   "cell_type": "markdown",
   "id": "581cacf9",
   "metadata": {},
   "source": [
    "Para esto vamos a utilizar Chi cuadrado, ya que nuestra vaiable objetiva es categóirica y haremos chi2 con las 44 otras variables categóricas."
   ]
  },
  {
   "cell_type": "code",
   "execution_count": null,
   "metadata": {},
   "outputs": [
    {
     "name": "stdout",
     "output_type": "stream",
     "text": [
      "            Variable           Chi2        p-value\n",
      "0   Wilderness_Area1   56245.464609   0.000000e+00\n",
      "22       Soil_Type22   26185.339083   0.000000e+00\n",
      "23       Soil_Type23   20386.020392   0.000000e+00\n",
      "24       Soil_Type24    4109.678859   0.000000e+00\n",
      "26       Soil_Type26    1659.039574   0.000000e+00\n",
      "29       Soil_Type29   22594.873831   0.000000e+00\n",
      "30       Soil_Type30   12662.866708   0.000000e+00\n",
      "31       Soil_Type31    3768.128852   0.000000e+00\n",
      "32       Soil_Type32    6674.090932   0.000000e+00\n",
      "33       Soil_Type33    5176.902117   0.000000e+00\n",
      "35       Soil_Type35   12871.276707   0.000000e+00\n",
      "37       Soil_Type37    8147.991669   0.000000e+00\n",
      "38       Soil_Type38   67503.903907   0.000000e+00\n",
      "39       Soil_Type39   63634.950899   0.000000e+00\n",
      "40       Soil_Type40   40964.997599   0.000000e+00\n",
      "41  Wilderness_Area2   13096.414181   0.000000e+00\n",
      "42  Wilderness_Area3    7292.697041   0.000000e+00\n",
      "18       Soil_Type18    2018.496712   0.000000e+00\n",
      "43  Wilderness_Area4  314948.432574   0.000000e+00\n",
      "1         Soil_Type1   29240.397718   0.000000e+00\n",
      "2         Soil_Type2   55674.092117   0.000000e+00\n",
      "3         Soil_Type3   61610.032796   0.000000e+00\n",
      "14       Soil_Type14   14272.735869   0.000000e+00\n",
      "13       Soil_Type13   11140.561137   0.000000e+00\n",
      "4         Soil_Type4   67826.146590   0.000000e+00\n",
      "12       Soil_Type12   22784.762713   0.000000e+00\n",
      "5         Soil_Type5   15361.159211   0.000000e+00\n",
      "6         Soil_Type6   46180.429875   0.000000e+00\n",
      "11       Soil_Type11    6904.142537   0.000000e+00\n",
      "10       Soil_Type10  129161.457207   0.000000e+00\n",
      "17       Soil_Type17   21609.431362   0.000000e+00\n",
      "19       Soil_Type19    1319.968142  5.151252e-282\n",
      "21       Soil_Type21    1286.304273  9.989046e-275\n",
      "20       Soil_Type20    1159.403151  2.922011e-247\n",
      "34       Soil_Type34    1079.520131  5.625522e-230\n",
      "36       Soil_Type36     860.924552  1.050671e-182\n",
      "16       Soil_Type16     794.481861  2.397289e-168\n",
      "28       Soil_Type28     791.046024  1.324488e-167\n",
      "9         Soil_Type9     654.584940  3.892084e-138\n",
      "27       Soil_Type27     244.982300   4.842166e-50\n",
      "25       Soil_Type25     143.526236   1.805297e-28\n",
      "7         Soil_Type7     110.360730   1.712965e-21\n",
      "15       Soil_Type15      97.365333   8.890831e-19\n",
      "8         Soil_Type8      61.264857   2.489856e-11\n"
     ]
    }
   ],
   "source": [
    "# Filtrar solo las variables categóricas\n",
    "df_categorical = df.drop(columns=continuous)\n",
    "\n",
    "# Lista para almacenar resultados\n",
    "chi2_results = []\n",
    "\n",
    "# Aplicar Chi-cuadrado a cada variable categórica con la variable objetivo\n",
    "for col in df_categorical.columns:\n",
    "    if col != 'Cover_type':\n",
    "        contingency_table = pd.crosstab(df_categorical[col], df_categorical['Cover_type'])\n",
    "        chi2, p, dof, expected = chi2_contingency(contingency_table)\n",
    "        chi2_results.append({'Variable': col, 'Chi2': chi2, 'p-value': p})\n",
    "\n",
    "# Convertir a DataFrame y mostrar resultados\n",
    "chi2_results_df = pd.DataFrame(chi2_results)\n",
    "print(chi2_results_df.sort_values(by='p-value'))"
   ]
  },
  {
   "cell_type": "markdown",
   "metadata": {},
   "source": [
    "Según Chi2, las 3 variables categricas que más van a influir en la variable objetivo son:\n",
    "- Wilderness_Area4: 314948.432574.\n",
    "- Soil_Type10: 129161.457207.\n",
    "- Soil_Type4: 67826.146590.\n"
   ]
  },
  {
   "cell_type": "markdown",
   "id": "bfb6600e",
   "metadata": {},
   "source": [
    "Para ver que variables contínuas que tengan relación con la objetivo, vamos a usar ANOVA. ANOVA te ayuda a ver si hay diferencias significativas en las variables continuas según la categoría de la variable objetivo."
   ]
  },
  {
   "cell_type": "code",
   "execution_count": null,
   "id": "feb5ab34",
   "metadata": {},
   "outputs": [
    {
     "name": "stdout",
     "output_type": "stream",
     "text": [
      "                             Variable         F-stat  p-value\n",
      "0                           Elevation  155306.869021      0.0\n",
      "1                              Aspect     446.717061      0.0\n",
      "2                               Slope    7762.474223      0.0\n",
      "3    Horizontal_Distance_To_Hydrology    2364.952074      0.0\n",
      "4      Vertical_Distance_To_Hydrology    1205.333661      0.0\n",
      "5     Horizontal_Distance_To_Roadways   10275.781727      0.0\n",
      "6                       Hillshade_9am    3231.992007      0.0\n",
      "7                      Hillshade_Noon    2920.383824      0.0\n",
      "8                       Hillshade_3pm    1042.196255      0.0\n",
      "9  Horizontal_Distance_To_Fire_Points    7262.064444      0.0\n"
     ]
    }
   ],
   "source": [
    "df_continuous = df.drop(columns=categorical)\n",
    "\n",
    "\n",
    "anova_results = []\n",
    "\n",
    "# Aplicar ANOVA a cada variable continua con la variable objetivo\n",
    "for col in df_continuous.columns:\n",
    "    if col != 'Cover_type':\n",
    "        groups = [df_continuous[col][df['Cover_type'] == cat] for cat in df['Cover_type'].unique()]\n",
    "        f_stat, p_value = stats.f_oneway(*groups)\n",
    "        anova_results.append({'Variable': col, 'F-stat': f_stat, 'p-value': p_value})\n",
    "\n",
    "# Convertir a DataFrame y mostrar resultados\n",
    "anova_results_df = pd.DataFrame(anova_results)\n",
    "print(anova_results_df.sort_values(by='p-value'))"
   ]
  },
  {
   "cell_type": "markdown",
   "id": "07786e48",
   "metadata": {},
   "source": [
    "En esta prueba nos sale que las variables más influyentes van a ser: \n",
    "- Elevation: 155306.869021.\n",
    "- Horizontal_Distance_To_Roadways: 10275.781727\n",
    "- Slope: 7762.474223."
   ]
  },
  {
   "cell_type": "code",
   "execution_count": null,
   "id": "e36f156a",
   "metadata": {},
   "outputs": [],
   "source": [
    "X, y = df.drop('Cover_type',axis=1),df['Cover_type']\n",
    "\n",
    "X_train,X_test,y_train,y_test = train_test_split(X, y, test_size=0.2, random_state=1)"
   ]
  },
  {
   "cell_type": "markdown",
   "id": "253d38fb",
   "metadata": {},
   "source": [
    "### Clasificación"
   ]
  },
  {
   "cell_type": "markdown",
   "id": "18aa2ef3",
   "metadata": {},
   "source": [
    "**Random Forest**\n",
    "\n",
    "En esta parte de la actividad hay que utilizar la librería https://scikit-learn.org/stable/modules/generated/sklearn.ensemble.RandomForestClassifier.html para resolver el problema de clasificación.\n",
    "\n",
    "El algortimo de RF necesitar ajustar una serie de hiperparámetros para realizar las clasificaciones. La implementación de sklearn nos da mucha flexibilidad para nuestros modelos. En general, para los problemas más comunes de clasificación, nos tenemos que preocupar de los siguientes hiperparámetros:\n",
    "- n_estimators\n",
    "- criterion\n",
    "- max_depth\n",
    "- min_samples_split\n",
    "- min_samples_leaf\n",
    "- max_features\n",
    "\n",
    "Indica qué son cada uno de estos hiperparámetros"
   ]
  },
  {
   "cell_type": "markdown",
   "id": "bd1bad91",
   "metadata": {},
   "source": [
    "- n_estimators: Número de árboles en el \"bosque\".\n",
    "- criterion: La función que mide la calidad de una división de los bosques. Por defecto: gini. \n",
    "- max_depth: La profundidad máxima de los árboles.\n",
    "- min_samples_split: El número mínimo de muestras para dividir un nodo interno.\n",
    "- min_samples_leaf: El número mínimo de muestras requeridas en una hoja.\n",
    "- max_features: El número máximo de características consideradas en cada división."
   ]
  },
  {
   "cell_type": "markdown",
   "id": "4fe96625",
   "metadata": {},
   "source": [
    "Además de los hiperparámetros que acabas de descubrir, la implementación de sklearn tiene el hiperparámetro _class_weight_\n",
    "\n",
    "¿Qué indica ese parámetro? ¿Para qué puede ser útil?"
   ]
  },
  {
   "cell_type": "markdown",
   "id": "1b9ca14f",
   "metadata": {},
   "source": [
    "Este hiperparámetro se utiliza cuando tu dataset está desbalanceado en problemas de clasificación. Su propósito es ajustar el peso asignado a cada clase durante el entrenamiento, para que el modelo tenga más en cuenta las clases menos representadas."
   ]
  },
  {
   "cell_type": "markdown",
   "id": "6addd9e7",
   "metadata": {},
   "source": [
    "Como primer paso para crear un clasificador de Random Forest hay que decidir si hay que hacer algún preprocesamiento adicional sobre los datos.\n",
    "¿Hace falta normalizar los datos?"
   ]
  },
  {
   "cell_type": "markdown",
   "id": "9f52c971",
   "metadata": {},
   "source": [
    "Para el preprocesamiento de los datos he indagado sobre varias técnicas que me parecían útiles:\n",
    "\n",
    "- Normalización: No hace falta, ya que los érboles de decisión son insensibles a la escala de las variables. Ya que esta técnica no usa métricas de distancia como la euclídea u otras como sí lo usan KNN o SVM entre otros.\n",
    "\n",
    "- Transformar a formato one hot encoding: Es útil transformar las variables categóricas de del conjunto X a One hot encoding, pero en este momento las variables categóricas ya están en formato one-hot.\n",
    "\n",
    "- Valores atípicos: Random Forest es menos sensible a los outliers que otros modelos debido a que los árboles se basan en divisiones por umbrales, no promedios ni distancias.\n",
    "\n",
    "- Balanceo de clases: Como este Dataset tiene los datos desbalanceados probaremos esto para que el modelo tenga más en cuenta las variables menos representadas."
   ]
  },
  {
   "cell_type": "markdown",
   "id": "e3465ab1",
   "metadata": {},
   "source": [
    "Entrena un conjunto de modelos de Random Forest que utilicen todas las variables del dataset, con 5, 10, 20, 50 y 100 árboles. El criterio para realizar las particiones debe ser Gini-index, la profundidad máxima de los árboles debe ser 10, el número mínimo de ejemplos para realizar una partición debe ser 10, el número mínimo de ejemplos para considerarlo una hoja debe ser 2, y el número máximo de características deben ser todas.\n",
    "\n",
    "_Nota: el entrenamiento puede tardar entre 3 y 15 minutos en función de las características del equipo._"
   ]
  },
  {
   "cell_type": "code",
   "execution_count": null,
   "id": "b3a15a67",
   "metadata": {},
   "outputs": [],
   "source": [
    "n_arboles = [5, 10, 20, 50, 100]\n",
    "particion = \"gini\"\n",
    "max_depth = 10\n",
    "min_samples_split = 10\n",
    "min_samples_leaf = 2\n",
    "max_features = None # None significa usar todas las características\n",
    "\n",
    "randomForest = []\n",
    "for i in n_arboles:\n",
    "    rf = RandomForestClassifier(n_estimators=i, criterion=particion,\n",
    "                                max_depth=max_depth, min_samples_split=min_samples_split,\n",
    "                                min_samples_leaf=min_samples_leaf, max_features=max_features,\n",
    "                                random_state=42, n_jobs=-1) # Añadido random_state y n_jobs\n",
    "    rf.fit(X_train, y_train) # Entrena el modelo\n",
    "    randomForest.append(rf)"
   ]
  },
  {
   "cell_type": "code",
   "execution_count": null,
   "id": "96240675",
   "metadata": {},
   "outputs": [
    {
     "name": "stdout",
     "output_type": "stream",
     "text": [
      "Precisión del modelo 0 con 5 árboles: 0.795590475288934\n",
      "Precisión del modelo 1 con 10 árboles: 0.796080996187706\n",
      "Precisión del modelo 2 con 20 árboles: 0.792561293598272\n",
      "Precisión del modelo 3 con 50 árboles: 0.7936456029534521\n",
      "Precisión del modelo 4 con 100 árboles: 0.7954613908418887\n"
     ]
    }
   ],
   "source": [
    "for i in range(0,5):\n",
    "    y_pred = randomForest[i].predict(X_test)\n",
    "    accuracy = accuracy_score(y_test, y_pred)\n",
    "    print(f\"Precisión del modelo {i} con {n_arboles[i]} árboles: {accuracy}\")"
   ]
  },
  {
   "cell_type": "markdown",
   "id": "5898797f",
   "metadata": {},
   "source": [
    "Visualiza la matriz de confusión del modelo entrenado con 20 árboles."
   ]
  },
  {
   "cell_type": "code",
   "execution_count": null,
   "id": "2735dc23",
   "metadata": {},
   "outputs": [
    {
     "name": "stdout",
     "output_type": "stream",
     "text": [
      "[[32122  9807     3     0    18    17   308]\n",
      " [ 7251 48780   273     0    57   229    12]\n",
      " [    0   788  6179    50     0   252     0]\n",
      " [    0     0   174   365     0     7     0]\n",
      " [    2  1439    25     0   460     3     0]\n",
      " [    1   856  1373    22     0  1244     0]\n",
      " [ 1109    29     0     0     0     0  2948]]\n"
     ]
    }
   ],
   "source": [
    "y_pred = randomForest[2].predict(X_test)\n",
    "\n",
    "cm = confusion_matrix(y_test, y_pred)\n",
    "\n",
    "print(cm)"
   ]
  },
  {
   "cell_type": "code",
   "execution_count": null,
   "id": "fad49946",
   "metadata": {},
   "outputs": [
    {
     "data": {
      "image/png": "[encoded data removed]",
      "text/plain": [
       "<Figure size 800x600 with 2 Axes>"
      ]
     },
     "metadata": {},
     "output_type": "display_data"
    }
   ],
   "source": [
    "plt.figure(figsize=(8,6))\n",
    "sns.heatmap(cm, annot=True, fmt='d', cmap='Blues', xticklabels=randomForest[2].classes_, yticklabels=randomForest[2].classes_)\n",
    "plt.xlabel('Predicción')\n",
    "plt.ylabel('Real')\n",
    "plt.show()"
   ]
  },
  {
   "cell_type": "code",
   "execution_count": null,
   "id": "0b24ae5e",
   "metadata": {},
   "outputs": [
    {
     "name": "stdout",
     "output_type": "stream",
     "text": [
      "              precision    recall  f1-score   support\n",
      "\n",
      "           1       0.79      0.76      0.78     42275\n",
      "           2       0.79      0.86      0.82     56602\n",
      "           3       0.77      0.85      0.81      7269\n",
      "           4       0.84      0.67      0.74       546\n",
      "           5       0.86      0.24      0.37      1929\n",
      "           6       0.71      0.36      0.47      3496\n",
      "           7       0.90      0.72      0.80      4086\n",
      "\n",
      "    accuracy                           0.79    116203\n",
      "   macro avg       0.81      0.64      0.69    116203\n",
      "weighted avg       0.79      0.79      0.79    116203\n",
      "\n"
     ]
    }
   ],
   "source": [
    "print(classification_report(y_test, y_pred))\n"
   ]
  },
  {
   "cell_type": "markdown",
   "id": "72ebca94",
   "metadata": {},
   "source": [
    "¿Cuántos ejemplos ha clasificado correctamente?"
   ]
  },
  {
   "cell_type": "code",
   "execution_count": null,
   "id": "7397e658",
   "metadata": {},
   "outputs": [
    {
     "name": "stdout",
     "output_type": "stream",
     "text": [
      "Nº of correct predictions in class 1: 32122. %: 75.98%\n",
      "Nº of correct predictions in class 2: 48780. %: 86.18%\n",
      "Nº of correct predictions in class 3: 6179. %: 85.00%\n",
      "Nº of correct predictions in class 4: 365. %: 66.85%\n",
      "Nº of correct predictions in class 5: 460. %: 23.85%\n",
      "Nº of correct predictions in class 6: 1244. %: 35.58%\n",
      "Nº of correct predictions in class 7: 2948. %: 72.15%\n"
     ]
    }
   ],
   "source": [
    "clase = 0\n",
    "for i in cm:\n",
    "    sum = 0\n",
    "    for j in i:\n",
    "        sum += j\n",
    "    print(f\"Nº of correct predictions in class {clase+1}: {i[clase]}. %: {i[clase]/sum * 100:.2f}%\")   \n",
    "    \n",
    "    clase += 1"
   ]
  },
  {
   "cell_type": "markdown",
   "id": "fab58c9a",
   "metadata": {},
   "source": [
    "Ha plasificado correctamente este número de instancias en cada una de estas clases:\n",
    "\n",
    "Nº de ejemplos correctamente clasificados en la clase 1: 32122.\n",
    "\n",
    "Nº de ejemplos correctamente clasificados en la clase 2: 48780. \n",
    "\n",
    "Nº de ejemplos correctamente clasificados en la clase 3: 6179. \n",
    "\n",
    "Nº de ejemplos correctamente clasificados en la clase 4: 365.  \n",
    "\n",
    "Nº de ejemplos correctamente clasificados en la clase 5: 460. \n",
    "\n",
    "Nº de ejemplos correctamente clasificados en la clase 6: 1244.  \n",
    "\n",
    "Nº de ejemplos correctamente clasificados en la clase 7: 2948."
   ]
  },
  {
   "cell_type": "markdown",
   "id": "bea3cfba",
   "metadata": {},
   "source": [
    "Ahora vamos a probar class weight balanced para ver si balanceando da mejores resultados."
   ]
  },
  {
   "cell_type": "code",
   "execution_count": null,
   "id": "8179eb72",
   "metadata": {},
   "outputs": [],
   "source": [
    "randomForestb = []\n",
    "for i in n_arboles:\n",
    "    rfb = RandomForestClassifier(n_estimators=i, criterion=particion,\n",
    "                                max_depth=max_depth, min_samples_split=min_samples_split,\n",
    "                                min_samples_leaf=min_samples_leaf, max_features=max_features,\n",
    "                                random_state=42, n_jobs=-1, class_weight='balanced') # Añadido random_state y n_jobs\n",
    "    rfb.fit(X_train, y_train) # Entrena el modelo\n",
    "    randomForestb.append(rfb)"
   ]
  },
  {
   "cell_type": "code",
   "execution_count": null,
   "id": "73c05c77",
   "metadata": {},
   "outputs": [
    {
     "name": "stdout",
     "output_type": "stream",
     "text": [
      "Precisión del modelo 0 con 5 árboles: 0.6722890114713045\n",
      "Precisión del modelo 1 con 10 árboles: 0.6847327521664673\n",
      "Precisión del modelo 2 con 20 árboles: 0.6817982324036385\n",
      "Precisión del modelo 3 con 50 árboles: 0.6825211053070919\n",
      "Precisión del modelo 4 con 100 árboles: 0.6829083586482276\n"
     ]
    }
   ],
   "source": [
    "for i in range(0,5):\n",
    "    y_predb = randomForestb[i].predict(X_test)\n",
    "    accuracyb = accuracy_score(y_test, y_predb)\n",
    "    print(f\"Precisión del modelo {i} con {n_arboles[i]} árboles: {accuracyb}\")"
   ]
  },
  {
   "cell_type": "code",
   "execution_count": null,
   "id": "35d512f2",
   "metadata": {},
   "outputs": [
    {
     "name": "stdout",
     "output_type": "stream",
     "text": [
      "[[30360  6958    19     0  1544   191  3203]\n",
      " [ 9808 34275   938    12  8714  2324   531]\n",
      " [    0    70  5519   224   239  1217     0]\n",
      " [    0     0    18   518     0    10     0]\n",
      " [    0    71    25     0  1773    60     0]\n",
      " [    0     9   362    52   134  2939     0]\n",
      " [  218     9     0     0    16     0  3843]]\n"
     ]
    }
   ],
   "source": [
    "y_predb = randomForestb[2].predict(X_test)\n",
    "\n",
    "cmb = confusion_matrix(y_test, y_predb)\n",
    "\n",
    "print(cmb)"
   ]
  },
  {
   "cell_type": "code",
   "execution_count": null,
   "id": "135c2479",
   "metadata": {},
   "outputs": [
    {
     "data": {
      "image/png": "[encoded data removed]",
      "text/plain": [
       "<Figure size 800x600 with 2 Axes>"
      ]
     },
     "metadata": {},
     "output_type": "display_data"
    }
   ],
   "source": [
    "plt.figure(figsize=(8,6))\n",
    "sns.heatmap(cmb, annot=True, fmt='d', cmap='Blues', xticklabels=randomForestb[2].classes_, yticklabels=randomForestb[2].classes_)\n",
    "plt.xlabel('Predicción')\n",
    "plt.ylabel('Real')\n",
    "plt.show()"
   ]
  },
  {
   "cell_type": "code",
   "execution_count": null,
   "id": "99e7f382",
   "metadata": {},
   "outputs": [
    {
     "name": "stdout",
     "output_type": "stream",
     "text": [
      "              precision    recall  f1-score   support\n",
      "\n",
      "           1       0.75      0.72      0.73     42275\n",
      "           2       0.83      0.61      0.70     56602\n",
      "           3       0.80      0.76      0.78      7269\n",
      "           4       0.64      0.95      0.77       546\n",
      "           5       0.14      0.92      0.25      1929\n",
      "           6       0.44      0.84      0.57      3496\n",
      "           7       0.51      0.94      0.66      4086\n",
      "\n",
      "    accuracy                           0.68    116203\n",
      "   macro avg       0.59      0.82      0.64    116203\n",
      "weighted avg       0.76      0.68      0.70    116203\n",
      "\n"
     ]
    }
   ],
   "source": [
    "print(classification_report(y_test, y_predb))\n"
   ]
  },
  {
   "cell_type": "code",
   "execution_count": null,
   "id": "a9f37dd2",
   "metadata": {},
   "outputs": [
    {
     "name": "stdout",
     "output_type": "stream",
     "text": [
      "Nº of correct predictions in class 1: 30360. %: 71.82%\n",
      "Nº of correct predictions in class 2: 34275. %: 60.55%\n",
      "Nº of correct predictions in class 3: 5519. %: 75.93%\n",
      "Nº of correct predictions in class 4: 518. %: 94.87%\n",
      "Nº of correct predictions in class 5: 1773. %: 91.91%\n",
      "Nº of correct predictions in class 6: 2939. %: 84.07%\n",
      "Nº of correct predictions in class 7: 3843. %: 94.05%\n"
     ]
    }
   ],
   "source": [
    "clase = 0\n",
    "for i in cmb:\n",
    "    sum = 0\n",
    "    for j in i:\n",
    "        sum += j\n",
    "    print(f\"Nº of correct predictions in class {clase+1}: {i[clase]}. %: {i[clase]/sum * 100:.2f}%\")   \n",
    "    \n",
    "    clase += 1"
   ]
  },
  {
   "cell_type": "markdown",
   "id": "f40cf8f2",
   "metadata": {},
   "source": [
    "Ha plasificado correctamente este número de instancias en cada una de estas clases:\n",
    "\n",
    "Nº de ejemplos correctamente clasificados en la clase 1: 30360.\n",
    "\n",
    "Nº de ejemplos correctamente clasificados en la clase 2: 34275. \n",
    "\n",
    "Nº de ejemplos correctamente clasificados en la clase 3: 5519. \n",
    "\n",
    "Nº de ejemplos correctamente clasificados en la clase 4: 518.  \n",
    "\n",
    "Nº de ejemplos correctamente clasificados en la clase 5: 1773. \n",
    "\n",
    "Nº de ejemplos correctamente clasificados en la clase 6: 2939.  \n",
    "\n",
    "Nº de ejemplos correctamente clasificados en la clase 7: 3843."
   ]
  },
  {
   "cell_type": "markdown",
   "id": "472169f2-e1bb-437f-954c-699dbe609341",
   "metadata": {},
   "source": [
    "Explica cómo funciona la clasificación para cada una de las 7 clases. ¿Hay alguna clase que clasifica mejor que otras?"
   ]
  },
  {
   "cell_type": "markdown",
   "id": "4697a68b",
   "metadata": {},
   "source": [
    "Sin balancear:\n",
    "\n",
    "Cuando no usamos 'class_weight' el modelo clasifica mejor las clases más numerosas, como por ejemplo cover type 1, 2 o 3. Cuando vemos las clases menos representadas como la 5 o 6 podemos fijarnos en que las predicciones de la misma clase son menores que en otras clases, por lo que en estas clases no hace buenas predicciones. Se puede ver que en las clases 4 y 7, aunque las predicciones son correctas, hay un pocentaje muy notable de las predicciones que se hacen a una única clase distinta de la objetivo.\n",
    "\n",
    "Esta diferencia de predicciones se da al tener un dataset muy desalanceado, lo que hace que el modelo opte por predecir en muchos casos las clases 1 y 3 por encima de lo normal.\n",
    "\n",
    "Esto no es algo faborable a nuestro modelo, ya que un modelo bueno se ve cuando la clasificación se hace bien sin importar la clase. Por esto, estos modelos no los considero tan buenos ya uqe aunque tienen un 79% de acc, no clasifica las clases minoritarias de forma correcta. Para ello hemos usado class_weight para balancear los datos y ver las diferencias.\n",
    "\n",
    "Balanceados:\n",
    "\n",
    "En este apartado hemos usado 'class_weight', el propósito de este hiperparámetro es ajustar el peso asignado a cada clase durante el entrenamiento, para que el modelo tenga más en cuenta las clases menos representadas. Como podemos ver, las clases más minoritarias se clasifican mucho mejor, mientras que las clases con más instancias tienen un porcentaje más bajo de acierto. El porcentaje de acierto global del modelo es peor en general, esto se da porque son justo las clases más mayoritarias como la 2 que tienen un porcentaje mucho menor de aciertos."
   ]
  },
  {
   "cell_type": "markdown",
   "id": "65c05b55",
   "metadata": {},
   "source": [
    "¿Cuál de todos los modelos que has entrenado obtiene mejores resultados de precisión para el conjunto de datos de test?\n",
    "\n",
    "_Nota: recuerda que es un modelo de clasificación multiclase y hay que analizar los datos para todas las clases._"
   ]
  },
  {
   "cell_type": "markdown",
   "id": "a2f2780d",
   "metadata": {},
   "source": [
    "De los modelos entrenados, el mejor, es el modelo con 10 árboles y balanceado. Pero vamos a probar a hacer un gridsearch para ver exactamente cual es el mejor modelo que podemos entrenar."
   ]
  },
  {
   "cell_type": "markdown",
   "id": "9e4f081e",
   "metadata": {},
   "source": [
    "Voy a usar los hiper parámetros que mejor resultdo me ha dado así puedo asegurar que pueda reproducirlo sin tener que esperar 12 horas a que entrene."
   ]
  },
  {
   "cell_type": "code",
   "execution_count": null,
   "id": "b799a87a",
   "metadata": {},
   "outputs": [
    {
     "name": "stderr",
     "output_type": "stream",
     "text": [
      "C:\\Users\\Usuario\\AppData\\Local\\Packages\\PythonSoftwareFoundation.Python.3.11_qbz5n2kfra8p0\\LocalCache\\local-packages\\Python311\\site-packages\\numpy\\ma\\core.py:2846: RuntimeWarning: invalid value encountered in cast\n",
      "  _data = np.array(data, dtype=dtype, copy=copy,\n"
     ]
    },
    {
     "name": "stdout",
     "output_type": "stream",
     "text": [
      "Mejores parámetros: {'bootstrap': True, 'class_weight': 'balanced', 'criterion': 'entropy', 'max_depth': 12, 'max_features': None, 'min_samples_leaf': 2, 'min_samples_split': 9, 'n_estimators': 10}\n",
      "Precisión en el conjunto de prueba: 0.7563488033871759\n"
     ]
    }
   ],
   "source": [
    "param_grid = {\n",
    "  'n_estimators': [10, 12, 14],\n",
    "  'max_depth': [10, 12],\n",
    "  'min_samples_split': [9, 10, 11],\n",
    "  'min_samples_leaf': [2, 4],\n",
    "  'max_features': ['sqrt', None],\n",
    "  'criterion': ['entropy'],\n",
    "  'bootstrap': [True, False],\n",
    "  'class_weight': ['balanced']\n",
    "}\n",
    "\n",
    "rf = RandomForestClassifier()\n",
    "# Create the GridSearchCV object using the estimator parameter\n",
    "grid_search = GridSearchCV(estimator=rf, param_grid=param_grid, cv=5, n_jobs=-1)\n",
    "\n",
    "# Adjust the GridSearch\n",
    "grid_search.fit(X_train, y_train)\n",
    "\n",
    "# Get the best parameters\n",
    "best_params = grid_search.best_params_\n",
    "print(\"Mejores parámetros:\", best_params)\n",
    "\n",
    "# Evaluate the model with the best parameters\n",
    "best_model = grid_search.best_estimator_\n",
    "accuracy = best_model.score(X_test, y_test)\n",
    "print(\"Precisión en el conjunto de prueba:\", accuracy)"
   ]
  },
  {
   "cell_type": "markdown",
   "id": "bf84842f",
   "metadata": {},
   "source": [
    "Hice esto varias veces debido a que apagaba el ordenador y el mejor resultado me dio con los siguientes parámetros."
   ]
  },
  {
   "cell_type": "code",
   "execution_count": null,
   "id": "dfd11198",
   "metadata": {},
   "outputs": [
    {
     "data": {
      "text/html": [
       "<style>#sk-container-id-1 {\n",
       "  /* Definition of color scheme common for light and dark mode */\n",
       "  --sklearn-color-text: black;\n",
       "  --sklearn-color-line: gray;\n",
       "  /* Definition of color scheme for unfitted estimators */\n",
       "  --sklearn-color-unfitted-level-0: #fff5e6;\n",
       "  --sklearn-color-unfitted-level-1: #f6e4d2;\n",
       "  --sklearn-color-unfitted-level-2: #ffe0b3;\n",
       "  --sklearn-color-unfitted-level-3: chocolate;\n",
       "  /* Definition of color scheme for fitted estimators */\n",
       "  --sklearn-color-fitted-level-0: #f0f8ff;\n",
       "  --sklearn-color-fitted-level-1: #d4ebff;\n",
       "  --sklearn-color-fitted-level-2: #b3dbfd;\n",
       "  --sklearn-color-fitted-level-3: cornflowerblue;\n",
       "\n",
       "  /* Specific color for light theme */\n",
       "  --sklearn-color-text-on-default-background: var(--sg-text-color, var(--theme-code-foreground, var(--jp-content-font-color1, black)));\n",
       "  --sklearn-color-background: var(--sg-background-color, var(--theme-background, var(--jp-layout-color0, white)));\n",
       "  --sklearn-color-border-box: var(--sg-text-color, var(--theme-code-foreground, var(--jp-content-font-color1, black)));\n",
       "  --sklearn-color-icon: #696969;\n",
       "\n",
       "  @media (prefers-color-scheme: dark) {\n",
       "    /* Redefinition of color scheme for dark theme */\n",
       "    --sklearn-color-text-on-default-background: var(--sg-text-color, var(--theme-code-foreground, var(--jp-content-font-color1, white)));\n",
       "    --sklearn-color-background: var(--sg-background-color, var(--theme-background, var(--jp-layout-color0, #111)));\n",
       "    --sklearn-color-border-box: var(--sg-text-color, var(--theme-code-foreground, var(--jp-content-font-color1, white)));\n",
       "    --sklearn-color-icon: #878787;\n",
       "  }\n",
       "}\n",
       "\n",
       "#sk-container-id-1 {\n",
       "  color: var(--sklearn-color-text);\n",
       "}\n",
       "\n",
       "#sk-container-id-1 pre {\n",
       "  padding: 0;\n",
       "}\n",
       "\n",
       "#sk-container-id-1 input.sk-hidden--visually {\n",
       "  border: 0;\n",
       "  clip: rect(1px 1px 1px 1px);\n",
       "  clip: rect(1px, 1px, 1px, 1px);\n",
       "  height: 1px;\n",
       "  margin: -1px;\n",
       "  overflow: hidden;\n",
       "  padding: 0;\n",
       "  position: absolute;\n",
       "  width: 1px;\n",
       "}\n",
       "\n",
       "#sk-container-id-1 div.sk-dashed-wrapped {\n",
       "  border: 1px dashed var(--sklearn-color-line);\n",
       "  margin: 0 0.4em 0.5em 0.4em;\n",
       "  box-sizing: border-box;\n",
       "  padding-bottom: 0.4em;\n",
       "  background-color: var(--sklearn-color-background);\n",
       "}\n",
       "\n",
       "#sk-container-id-1 div.sk-container {\n",
       "  /* jupyter's `normalize.less` sets `[hidden] { display: none; }`\n",
       "     but bootstrap.min.css set `[hidden] { display: none !important; }`\n",
       "     so we also need the `!important` here to be able to override the\n",
       "     default hidden behavior on the sphinx rendered scikit-learn.org.\n",
       "     See: https://github.com/scikit-learn/scikit-learn/issues/21755 */\n",
       "  display: inline-block !important;\n",
       "  position: relative;\n",
       "}\n",
       "\n",
       "#sk-container-id-1 div.sk-text-repr-fallback {\n",
       "  display: none;\n",
       "}\n",
       "\n",
       "div.sk-parallel-item,\n",
       "div.sk-serial,\n",
       "div.sk-item {\n",
       "  /* draw centered vertical line to link estimators */\n",
       "  background-image: linear-gradient(var(--sklearn-color-text-on-default-background), var(--sklearn-color-text-on-default-background));\n",
       "  background-size: 2px 100%;\n",
       "  background-repeat: no-repeat;\n",
       "  background-position: center center;\n",
       "}\n",
       "\n",
       "/* Parallel-specific style estimator block */\n",
       "\n",
       "#sk-container-id-1 div.sk-parallel-item::after {\n",
       "  content: \"\";\n",
       "  width: 100%;\n",
       "  border-bottom: 2px solid var(--sklearn-color-text-on-default-background);\n",
       "  flex-grow: 1;\n",
       "}\n",
       "\n",
       "#sk-container-id-1 div.sk-parallel {\n",
       "  display: flex;\n",
       "  align-items: stretch;\n",
       "  justify-content: center;\n",
       "  background-color: var(--sklearn-color-background);\n",
       "  position: relative;\n",
       "}\n",
       "\n",
       "#sk-container-id-1 div.sk-parallel-item {\n",
       "  display: flex;\n",
       "  flex-direction: column;\n",
       "}\n",
       "\n",
       "#sk-container-id-1 div.sk-parallel-item:first-child::after {\n",
       "  align-self: flex-end;\n",
       "  width: 50%;\n",
       "}\n",
       "\n",
       "#sk-container-id-1 div.sk-parallel-item:last-child::after {\n",
       "  align-self: flex-start;\n",
       "  width: 50%;\n",
       "}\n",
       "\n",
       "#sk-container-id-1 div.sk-parallel-item:only-child::after {\n",
       "  width: 0;\n",
       "}\n",
       "\n",
       "/* Serial-specific style estimator block */\n",
       "\n",
       "#sk-container-id-1 div.sk-serial {\n",
       "  display: flex;\n",
       "  flex-direction: column;\n",
       "  align-items: center;\n",
       "  background-color: var(--sklearn-color-background);\n",
       "  padding-right: 1em;\n",
       "  padding-left: 1em;\n",
       "}\n",
       "\n",
       "\n",
       "/* Toggleable style: style used for estimator/Pipeline/ColumnTransformer box that is\n",
       "clickable and can be expanded/collapsed.\n",
       "- Pipeline and ColumnTransformer use this feature and define the default style\n",
       "- Estimators will overwrite some part of the style using the `sk-estimator` class\n",
       "*/\n",
       "\n",
       "/* Pipeline and ColumnTransformer style (default) */\n",
       "\n",
       "#sk-container-id-1 div.sk-toggleable {\n",
       "  /* Default theme specific background. It is overwritten whether we have a\n",
       "  specific estimator or a Pipeline/ColumnTransformer */\n",
       "  background-color: var(--sklearn-color-background);\n",
       "}\n",
       "\n",
       "/* Toggleable label */\n",
       "#sk-container-id-1 label.sk-toggleable__label {\n",
       "  cursor: pointer;\n",
       "  display: block;\n",
       "  width: 100%;\n",
       "  margin-bottom: 0;\n",
       "  padding: 0.5em;\n",
       "  box-sizing: border-box;\n",
       "  text-align: center;\n",
       "}\n",
       "\n",
       "#sk-container-id-1 label.sk-toggleable__label-arrow:before {\n",
       "  /* Arrow on the left of the label */\n",
       "  content: \"▸\";\n",
       "  float: left;\n",
       "  margin-right: 0.25em;\n",
       "  color: var(--sklearn-color-icon);\n",
       "}\n",
       "\n",
       "#sk-container-id-1 label.sk-toggleable__label-arrow:hover:before {\n",
       "  color: var(--sklearn-color-text);\n",
       "}\n",
       "\n",
       "/* Toggleable content - dropdown */\n",
       "\n",
       "#sk-container-id-1 div.sk-toggleable__content {\n",
       "  max-height: 0;\n",
       "  max-width: 0;\n",
       "  overflow: hidden;\n",
       "  text-align: left;\n",
       "  /* unfitted */\n",
       "  background-color: var(--sklearn-color-unfitted-level-0);\n",
       "}\n",
       "\n",
       "#sk-container-id-1 div.sk-toggleable__content.fitted {\n",
       "  /* fitted */\n",
       "  background-color: var(--sklearn-color-fitted-level-0);\n",
       "}\n",
       "\n",
       "#sk-container-id-1 div.sk-toggleable__content pre {\n",
       "  margin: 0.2em;\n",
       "  border-radius: 0.25em;\n",
       "  color: var(--sklearn-color-text);\n",
       "  /* unfitted */\n",
       "  background-color: var(--sklearn-color-unfitted-level-0);\n",
       "}\n",
       "\n",
       "#sk-container-id-1 div.sk-toggleable__content.fitted pre {\n",
       "  /* unfitted */\n",
       "  background-color: var(--sklearn-color-fitted-level-0);\n",
       "}\n",
       "\n",
       "#sk-container-id-1 input.sk-toggleable__control:checked~div.sk-toggleable__content {\n",
       "  /* Expand drop-down */\n",
       "  max-height: 200px;\n",
       "  max-width: 100%;\n",
       "  overflow: auto;\n",
       "}\n",
       "\n",
       "#sk-container-id-1 input.sk-toggleable__control:checked~label.sk-toggleable__label-arrow:before {\n",
       "  content: \"▾\";\n",
       "}\n",
       "\n",
       "/* Pipeline/ColumnTransformer-specific style */\n",
       "\n",
       "#sk-container-id-1 div.sk-label input.sk-toggleable__control:checked~label.sk-toggleable__label {\n",
       "  color: var(--sklearn-color-text);\n",
       "  background-color: var(--sklearn-color-unfitted-level-2);\n",
       "}\n",
       "\n",
       "#sk-container-id-1 div.sk-label.fitted input.sk-toggleable__control:checked~label.sk-toggleable__label {\n",
       "  background-color: var(--sklearn-color-fitted-level-2);\n",
       "}\n",
       "\n",
       "/* Estimator-specific style */\n",
       "\n",
       "/* Colorize estimator box */\n",
       "#sk-container-id-1 div.sk-estimator input.sk-toggleable__control:checked~label.sk-toggleable__label {\n",
       "  /* unfitted */\n",
       "  background-color: var(--sklearn-color-unfitted-level-2);\n",
       "}\n",
       "\n",
       "#sk-container-id-1 div.sk-estimator.fitted input.sk-toggleable__control:checked~label.sk-toggleable__label {\n",
       "  /* fitted */\n",
       "  background-color: var(--sklearn-color-fitted-level-2);\n",
       "}\n",
       "\n",
       "#sk-container-id-1 div.sk-label label.sk-toggleable__label,\n",
       "#sk-container-id-1 div.sk-label label {\n",
       "  /* The background is the default theme color */\n",
       "  color: var(--sklearn-color-text-on-default-background);\n",
       "}\n",
       "\n",
       "/* On hover, darken the color of the background */\n",
       "#sk-container-id-1 div.sk-label:hover label.sk-toggleable__label {\n",
       "  color: var(--sklearn-color-text);\n",
       "  background-color: var(--sklearn-color-unfitted-level-2);\n",
       "}\n",
       "\n",
       "/* Label box, darken color on hover, fitted */\n",
       "#sk-container-id-1 div.sk-label.fitted:hover label.sk-toggleable__label.fitted {\n",
       "  color: var(--sklearn-color-text);\n",
       "  background-color: var(--sklearn-color-fitted-level-2);\n",
       "}\n",
       "\n",
       "/* Estimator label */\n",
       "\n",
       "#sk-container-id-1 div.sk-label label {\n",
       "  font-family: monospace;\n",
       "  font-weight: bold;\n",
       "  display: inline-block;\n",
       "  line-height: 1.2em;\n",
       "}\n",
       "\n",
       "#sk-container-id-1 div.sk-label-container {\n",
       "  text-align: center;\n",
       "}\n",
       "\n",
       "/* Estimator-specific */\n",
       "#sk-container-id-1 div.sk-estimator {\n",
       "  font-family: monospace;\n",
       "  border: 1px dotted var(--sklearn-color-border-box);\n",
       "  border-radius: 0.25em;\n",
       "  box-sizing: border-box;\n",
       "  margin-bottom: 0.5em;\n",
       "  /* unfitted */\n",
       "  background-color: var(--sklearn-color-unfitted-level-0);\n",
       "}\n",
       "\n",
       "#sk-container-id-1 div.sk-estimator.fitted {\n",
       "  /* fitted */\n",
       "  background-color: var(--sklearn-color-fitted-level-0);\n",
       "}\n",
       "\n",
       "/* on hover */\n",
       "#sk-container-id-1 div.sk-estimator:hover {\n",
       "  /* unfitted */\n",
       "  background-color: var(--sklearn-color-unfitted-level-2);\n",
       "}\n",
       "\n",
       "#sk-container-id-1 div.sk-estimator.fitted:hover {\n",
       "  /* fitted */\n",
       "  background-color: var(--sklearn-color-fitted-level-2);\n",
       "}\n",
       "\n",
       "/* Specification for estimator info (e.g. \"i\" and \"?\") */\n",
       "\n",
       "/* Common style for \"i\" and \"?\" */\n",
       "\n",
       ".sk-estimator-doc-link,\n",
       "a:link.sk-estimator-doc-link,\n",
       "a:visited.sk-estimator-doc-link {\n",
       "  float: right;\n",
       "  font-size: smaller;\n",
       "  line-height: 1em;\n",
       "  font-family: monospace;\n",
       "  background-color: var(--sklearn-color-background);\n",
       "  border-radius: 1em;\n",
       "  height: 1em;\n",
       "  width: 1em;\n",
       "  text-decoration: none !important;\n",
       "  margin-left: 1ex;\n",
       "  /* unfitted */\n",
       "  border: var(--sklearn-color-unfitted-level-1) 1pt solid;\n",
       "  color: var(--sklearn-color-unfitted-level-1);\n",
       "}\n",
       "\n",
       ".sk-estimator-doc-link.fitted,\n",
       "a:link.sk-estimator-doc-link.fitted,\n",
       "a:visited.sk-estimator-doc-link.fitted {\n",
       "  /* fitted */\n",
       "  border: var(--sklearn-color-fitted-level-1) 1pt solid;\n",
       "  color: var(--sklearn-color-fitted-level-1);\n",
       "}\n",
       "\n",
       "/* On hover */\n",
       "div.sk-estimator:hover .sk-estimator-doc-link:hover,\n",
       ".sk-estimator-doc-link:hover,\n",
       "div.sk-label-container:hover .sk-estimator-doc-link:hover,\n",
       ".sk-estimator-doc-link:hover {\n",
       "  /* unfitted */\n",
       "  background-color: var(--sklearn-color-unfitted-level-3);\n",
       "  color: var(--sklearn-color-background);\n",
       "  text-decoration: none;\n",
       "}\n",
       "\n",
       "div.sk-estimator.fitted:hover .sk-estimator-doc-link.fitted:hover,\n",
       ".sk-estimator-doc-link.fitted:hover,\n",
       "div.sk-label-container:hover .sk-estimator-doc-link.fitted:hover,\n",
       ".sk-estimator-doc-link.fitted:hover {\n",
       "  /* fitted */\n",
       "  background-color: var(--sklearn-color-fitted-level-3);\n",
       "  color: var(--sklearn-color-background);\n",
       "  text-decoration: none;\n",
       "}\n",
       "\n",
       "/* Span, style for the box shown on hovering the info icon */\n",
       ".sk-estimator-doc-link span {\n",
       "  display: none;\n",
       "  z-index: 9999;\n",
       "  position: relative;\n",
       "  font-weight: normal;\n",
       "  right: .2ex;\n",
       "  padding: .5ex;\n",
       "  margin: .5ex;\n",
       "  width: min-content;\n",
       "  min-width: 20ex;\n",
       "  max-width: 50ex;\n",
       "  color: var(--sklearn-color-text);\n",
       "  box-shadow: 2pt 2pt 4pt #999;\n",
       "  /* unfitted */\n",
       "  background: var(--sklearn-color-unfitted-level-0);\n",
       "  border: .5pt solid var(--sklearn-color-unfitted-level-3);\n",
       "}\n",
       "\n",
       ".sk-estimator-doc-link.fitted span {\n",
       "  /* fitted */\n",
       "  background: var(--sklearn-color-fitted-level-0);\n",
       "  border: var(--sklearn-color-fitted-level-3);\n",
       "}\n",
       "\n",
       ".sk-estimator-doc-link:hover span {\n",
       "  display: block;\n",
       "}\n",
       "\n",
       "/* \"?\"-specific style due to the `<a>` HTML tag */\n",
       "\n",
       "#sk-container-id-1 a.estimator_doc_link {\n",
       "  float: right;\n",
       "  font-size: 1rem;\n",
       "  line-height: 1em;\n",
       "  font-family: monospace;\n",
       "  background-color: var(--sklearn-color-background);\n",
       "  border-radius: 1rem;\n",
       "  height: 1rem;\n",
       "  width: 1rem;\n",
       "  text-decoration: none;\n",
       "  /* unfitted */\n",
       "  color: var(--sklearn-color-unfitted-level-1);\n",
       "  border: var(--sklearn-color-unfitted-level-1) 1pt solid;\n",
       "}\n",
       "\n",
       "#sk-container-id-1 a.estimator_doc_link.fitted {\n",
       "  /* fitted */\n",
       "  border: var(--sklearn-color-fitted-level-1) 1pt solid;\n",
       "  color: var(--sklearn-color-fitted-level-1);\n",
       "}\n",
       "\n",
       "/* On hover */\n",
       "#sk-container-id-1 a.estimator_doc_link:hover {\n",
       "  /* unfitted */\n",
       "  background-color: var(--sklearn-color-unfitted-level-3);\n",
       "  color: var(--sklearn-color-background);\n",
       "  text-decoration: none;\n",
       "}\n",
       "\n",
       "#sk-container-id-1 a.estimator_doc_link.fitted:hover {\n",
       "  /* fitted */\n",
       "  background-color: var(--sklearn-color-fitted-level-3);\n",
       "}\n",
       "</style><div id=\"sk-container-id-1\" class=\"sk-top-container\"><div class=\"sk-text-repr-fallback\"><pre>RandomForestClassifier(class_weight=&#x27;balanced&#x27;, criterion=&#x27;entropy&#x27;,\n",
       "                       max_depth=12, max_features=None, min_samples_leaf=2,\n",
       "                       min_samples_split=11, n_estimators=14, n_jobs=-1,\n",
       "                       random_state=42)</pre><b>In a Jupyter environment, please rerun this cell to show the HTML representation or trust the notebook. <br />On GitHub, the HTML representation is unable to render, please try loading this page with nbviewer.org.</b></div><div class=\"sk-container\" hidden><div class=\"sk-item\"><div class=\"sk-estimator fitted sk-toggleable\"><input class=\"sk-toggleable__control sk-hidden--visually\" id=\"sk-estimator-id-1\" type=\"checkbox\" checked><label for=\"sk-estimator-id-1\" class=\"sk-toggleable__label fitted sk-toggleable__label-arrow fitted\">&nbsp;&nbsp;RandomForestClassifier<a class=\"sk-estimator-doc-link fitted\" rel=\"noreferrer\" target=\"_blank\" href=\"https://scikit-learn.org/1.5/modules/generated/sklearn.ensemble.RandomForestClassifier.html\">?<span>Documentation for RandomForestClassifier</span></a><span class=\"sk-estimator-doc-link fitted\">i<span>Fitted</span></span></label><div class=\"sk-toggleable__content fitted\"><pre>RandomForestClassifier(class_weight=&#x27;balanced&#x27;, criterion=&#x27;entropy&#x27;,\n",
       "                       max_depth=12, max_features=None, min_samples_leaf=2,\n",
       "                       min_samples_split=11, n_estimators=14, n_jobs=-1,\n",
       "                       random_state=42)</pre></div> </div></div></div></div>"
      ],
      "text/plain": [
       "RandomForestClassifier(class_weight='balanced', criterion='entropy',\n",
       "                       max_depth=12, max_features=None, min_samples_leaf=2,\n",
       "                       min_samples_split=11, n_estimators=14, n_jobs=-1,\n",
       "                       random_state=42)"
      ]
     },
     "execution_count": 55,
     "metadata": {},
     "output_type": "execute_result"
    }
   ],
   "source": [
    "rff = RandomForestClassifier(n_estimators=14, criterion='entropy',\n",
    "                                max_depth=12, min_samples_split=11,\n",
    "                                min_samples_leaf=2, max_features=None,\n",
    "                                random_state=42, n_jobs=-1, class_weight='balanced') # Añadido random_state y n_jobs\n",
    "rff.fit(X_train, y_train) "
   ]
  },
  {
   "cell_type": "code",
   "execution_count": null,
   "id": "9739e416",
   "metadata": {},
   "outputs": [
    {
     "name": "stdout",
     "output_type": "stream",
     "text": [
      "Precisión en el conjunto de prueba: 0.7604709000628211\n"
     ]
    }
   ],
   "source": [
    "accuracy = rff.score(X_test, y_test)\n",
    "print(\"Precisión en el conjunto de prueba:\", accuracy)"
   ]
  },
  {
   "cell_type": "markdown",
   "id": "4b92ac9e",
   "metadata": {},
   "source": [
    "Selecciona el modelo que consideras que obtiene mejores resultados para los resultados de test. Explica por qué consideras que ese modelo es el que mejor resultados obtiene."
   ]
  },
  {
   "cell_type": "markdown",
   "id": "8254cf4a",
   "metadata": {},
   "source": [
    "Tras entrenar este último modelo podemos ver como los resultados generales son claramente mejores a los que hemos conseguido cuando hemos usado los hiperparámetros propuestos.\n",
    "\n",
    "Vamos a ver los resultados de cada clase para verificar que los resultados son mejores."
   ]
  },
  {
   "cell_type": "code",
   "execution_count": null,
   "id": "417714b6",
   "metadata": {},
   "outputs": [
    {
     "name": "stdout",
     "output_type": "stream",
     "text": [
      "[[33052  5605    36     0   989    77  2516]\n",
      " [ 8589 39689  1005     3  5260  1677   379]\n",
      " [    0     9  6114   147    58   941     0]\n",
      " [    0     0    20   517     0     9     0]\n",
      " [    2    41    18     0  1850    18     0]\n",
      " [    0     6   214    37    21  3218     0]\n",
      " [  150     5     0     0     2     0  3929]]\n"
     ]
    }
   ],
   "source": [
    "y_predb = rff.predict(X_test)\n",
    "\n",
    "cm = confusion_matrix(y_test, y_predb)\n",
    "\n",
    "print(cm)"
   ]
  },
  {
   "cell_type": "code",
   "execution_count": null,
   "id": "7049df95",
   "metadata": {},
   "outputs": [
    {
     "name": "stdout",
     "output_type": "stream",
     "text": [
      "Nº of correct predictions in class 1: 33052. %: 78.18%\n",
      "Nº of correct predictions in class 2: 39689. %: 70.12%\n",
      "Nº of correct predictions in class 3: 6114. %: 84.11%\n",
      "Nº of correct predictions in class 4: 517. %: 94.69%\n",
      "Nº of correct predictions in class 5: 1850. %: 95.90%\n",
      "Nº of correct predictions in class 6: 3218. %: 92.05%\n",
      "Nº of correct predictions in class 7: 3929. %: 96.16%\n"
     ]
    }
   ],
   "source": [
    "clase = 0\n",
    "for i in cm:\n",
    "    sum = 0\n",
    "    for j in i:\n",
    "        sum += j\n",
    "    print(f\"Nº of correct predictions in class {clase+1}: {i[clase]}. %: {i[clase]/sum * 100:.2f}%\")   \n",
    "    \n",
    "    clase += 1"
   ]
  },
  {
   "cell_type": "markdown",
   "id": "80684fff",
   "metadata": {},
   "source": [
    "Este modelo es mejor que el modelo entrenado sin balancear las clases por lo ya explicado anteriormente.\n",
    "\n",
    "Además mejora el resultado de la clasificación en cada una de las clases. Se ve como la clasificación de las últimas 4 clases es casi perfecto, mientras que el de las 3 primeras es muy bueno. Por tanto es el mejor modelo que hemos entrenado. "
   ]
  },
  {
   "cell_type": "markdown",
   "id": "3dc40a06",
   "metadata": {},
   "source": [
    "Para terminar de verificar que es un buen modelo, vamos a comprobar el sobreajuste"
   ]
  },
  {
   "cell_type": "code",
   "execution_count": null,
   "id": "0a1a9708",
   "metadata": {},
   "outputs": [
    {
     "name": "stdout",
     "output_type": "stream",
     "text": [
      "[[133125  21929    139      0   3791    375  10206]\n",
      " [ 33758 160325   3892     15  20589   6688   1432]\n",
      " [     0     17  24433    529    211   3295      0]\n",
      " [     0      0     14   2176      0     11      0]\n",
      " [     1     42     31      0   7448     42      0]\n",
      " [     0      6    563    109     71  13122      0]\n",
      " [   370      3      0      0      1      0  16050]]\n"
     ]
    }
   ],
   "source": [
    "y_pred_train = rff.predict(X_train)\n",
    "\n",
    "cms = confusion_matrix(y_train, y_pred_train)\n",
    "\n",
    "print(cms)"
   ]
  },
  {
   "cell_type": "code",
   "execution_count": null,
   "id": "32dadad3",
   "metadata": {},
   "outputs": [
    {
     "name": "stdout",
     "output_type": "stream",
     "text": [
      "Nº of correct predictions in class 1: 133125. %: 78.51%\n",
      "Nº of correct predictions in class 2: 160325. %: 70.72%\n",
      "Nº of correct predictions in class 3: 24433. %: 85.77%\n",
      "Nº of correct predictions in class 4: 2176. %: 98.86%\n",
      "Nº of correct predictions in class 5: 7448. %: 98.47%\n",
      "Nº of correct predictions in class 6: 13122. %: 94.60%\n",
      "Nº of correct predictions in class 7: 16050. %: 97.72%\n"
     ]
    }
   ],
   "source": [
    "clase = 0\n",
    "for i in cms:\n",
    "    sum = 0\n",
    "    for j in i:\n",
    "        sum += j\n",
    "    print(f\"Nº of correct predictions in class {clase+1}: {i[clase]}. %: {i[clase]/sum * 100:.2f}%\")   \n",
    "    \n",
    "    clase += 1"
   ]
  },
  {
   "cell_type": "markdown",
   "id": "2cad1906",
   "metadata": {},
   "source": [
    "Como podemos ver, este modelo no tiene apenas sobreajuste ya que funciona de forma muy parecida en datos vistos (train) como en datos nunca vistos (test)"
   ]
  },
  {
   "cell_type": "markdown",
   "id": "c48515df",
   "metadata": {},
   "source": [
    "Visualiza la matriz de confusión de los datos de test de este modelo.\n",
    "- ¿Cuántos ejemplos ha clasificado bien el modelo?\n",
    "- ¿Cuántos ejemplos ha clasificado de manera errónea?\n"
   ]
  },
  {
   "cell_type": "code",
   "execution_count": null,
   "id": "cb800afb",
   "metadata": {},
   "outputs": [
    {
     "name": "stdout",
     "output_type": "stream",
     "text": [
      "Nº instancias test:  116203\n"
     ]
    }
   ],
   "source": [
    "#nº instancias test\n",
    "print(\"Nº instancias test: \", len(y_test))"
   ]
  },
  {
   "cell_type": "code",
   "execution_count": null,
   "id": "d7fa6b5d",
   "metadata": {},
   "outputs": [
    {
     "name": "stdout",
     "output_type": "stream",
     "text": [
      "[[33052  5605    36     0   989    77  2516]\n",
      " [ 8589 39689  1005     3  5260  1677   379]\n",
      " [    0     9  6114   147    58   941     0]\n",
      " [    0     0    20   517     0     9     0]\n",
      " [    2    41    18     0  1850    18     0]\n",
      " [    0     6   214    37    21  3218     0]\n",
      " [  150     5     0     0     2     0  3929]]\n",
      "Total de predicciones correctas: 88369.\n"
     ]
    }
   ],
   "source": [
    "print(cm)\n",
    "clase = 0\n",
    "total = 0\n",
    "for i in cm:\n",
    "    sum = 0\n",
    "    for j in i:\n",
    "        sum += j \n",
    "    total += i[clase]\n",
    "    \n",
    "    clase += 1\n",
    "\n",
    "print(f\"Total de predicciones correctas: {total}.\")"
   ]
  },
  {
   "cell_type": "code",
   "execution_count": null,
   "id": "d4d73d3a",
   "metadata": {},
   "outputs": [
    {
     "name": "stdout",
     "output_type": "stream",
     "text": [
      "Total de predicciones erroneas: 27834.\n"
     ]
    }
   ],
   "source": [
    "print(f\"Total de predicciones erroneas: {len(y_test) - total}.\")"
   ]
  },
  {
   "cell_type": "markdown",
   "id": "9c4466e7",
   "metadata": {},
   "source": [
    "Visualiza los valores de precision, recall, f1 para cada una de las clases. \n",
    "- ¿Clasifica de igual manera todas las clases o hay alguna para la que el modelo tiene una mayor capacidad predictiva?"
   ]
  },
  {
   "cell_type": "code",
   "execution_count": null,
   "id": "8c03527b",
   "metadata": {},
   "outputs": [
    {
     "name": "stdout",
     "output_type": "stream",
     "text": [
      "              precision    recall  f1-score   support\n",
      "\n",
      "           1       0.79      0.78      0.79     42275\n",
      "           2       0.88      0.70      0.78     56602\n",
      "           3       0.83      0.84      0.83      7269\n",
      "           4       0.73      0.95      0.83       546\n",
      "           5       0.23      0.96      0.37      1929\n",
      "           6       0.54      0.92      0.68      3496\n",
      "           7       0.58      0.96      0.72      4086\n",
      "\n",
      "    accuracy                           0.76    116203\n",
      "   macro avg       0.65      0.87      0.71    116203\n",
      "weighted avg       0.81      0.76      0.77    116203\n",
      "\n"
     ]
    }
   ],
   "source": [
    "print(classification_report(y_test, y_predb))"
   ]
  },
  {
   "cell_type": "markdown",
   "id": "db6ae99d",
   "metadata": {},
   "source": [
    "Podemos interpretar los resultados de esta manera:\n",
    "\n",
    "Las clases con más datos (1, 2, 3) tienen F1-Scores más altos, lo que sugiere que el modelo funciona mejor con ellas.\n",
    "\n",
    "Las clases con pocos datos (4, 5, 6, 7) tienen valores más variados, lo que indica un desempeño menos estable.\n",
    "\n",
    "La clase 5 tiene una precisión muy baja (0.23) pero un recall alto (0.96), lo que sugiere que el modelo clasifica muchos ejemplos como clase 5 (incluso cuando no lo son), generando muchos falsos positivos.\n",
    "\n",
    "La precisión macro promedio (0.65) es menor que la ponderada (0.81), lo que sugiere que el modelo favorece clases más frecuentes.\n",
    "\n",
    "\n",
    "\n",
    "Este modelo claremente clasifica mehir las 4 últimas variables (las menos representadas en el dataset), mientras que tiene algún problema para clasificar las dos primeras variables, las cuales son las clases más representadas."
   ]
  },
  {
   "cell_type": "markdown",
   "id": "91704bdb",
   "metadata": {},
   "source": [
    "Para terminar, quería ver si la predicción de las variables más importantes era correcta."
   ]
  },
  {
   "cell_type": "code",
   "execution_count": null,
   "id": "307b9892",
   "metadata": {},
   "outputs": [
    {
     "name": "stdout",
     "output_type": "stream",
     "text": [
      "                               Feature  Importance\n",
      "0                            Elevation    0.641187\n",
      "5      Horizontal_Distance_To_Roadways    0.065316\n",
      "9   Horizontal_Distance_To_Fire_Points    0.056227\n",
      "3     Horizontal_Distance_To_Hydrology    0.040487\n",
      "6                        Hillshade_9am    0.030873\n",
      "10                    Wilderness_Area1    0.027704\n",
      "4       Vertical_Distance_To_Hydrology    0.017039\n",
      "7                       Hillshade_Noon    0.015256\n",
      "20                         Soil_Type10    0.014361\n",
      "1                               Aspect    0.012127\n"
     ]
    }
   ],
   "source": [
    "feature_names =  df.drop(columns=[\"Cover_type\"]).columns # Asegúrate de que df es el DataFrame original con las features\n",
    "\n",
    "# Obtener las importancias\n",
    "importances = rff.feature_importances_\n",
    "\n",
    "# Crear un DataFrame ordenado\n",
    "importance_df = pd.DataFrame({\"Feature\": feature_names, \"Importance\": importances})\n",
    "importance_df = importance_df.sort_values(by=\"Importance\", ascending=False)  # Ordenar de mayor a menor\n",
    "\n",
    "# Mostrar de forma legible\n",
    "print(importance_df.head(10))  # Muestra las 10 características más importantes\n"
   ]
  },
  {
   "cell_type": "markdown",
   "id": "5fec7fc6",
   "metadata": {},
   "source": [
    "**Support Vector Machine**"
   ]
  },
  {
   "cell_type": "markdown",
   "id": "fb3e9db2",
   "metadata": {},
   "source": [
    "Para la implementación del modelo de clasificación de SVM usaremos la clase Support Vector Classifier de sklearn, https://scikit-learn.org/stable/modules/generated/sklearn.svm.SVC.html#sklearn.svm.SVC\n",
    "\n",
    "El algoritmo de SVM necesita ajustar una serie de hiperparámetros para realizar las clasificaciones. La implementación de sklearn nos da mucha flexibilidad para nuestros modelos. En general, para los problemas más comunes de clasificación, nos tenemos que preocupar de los siguientes hiperparámetros:\n",
    "- C\n",
    "- kernel\n",
    "- degree\n",
    "- gamma\n",
    "\n",
    "Indica qué son cada uno de estos hiperparámetros"
   ]
  },
  {
   "cell_type": "markdown",
   "id": "56cfc868",
   "metadata": {},
   "source": [
    "- C: Regularización. El parámetro C controla el compromiso entre maximizar el margen y minimizar el error. Es un parámetro de regularización que ayuda a balancear el ajuste del modelo. Un C pequeño significa que estamos dispuestos a permitir algunos errores en la clasificación para obtener un margen más amplio, lo que favorece un modelo más generalizado. Un C grande hace que el modelo sea más estricto en cuanto a la clasificación correcta de los puntos de datos, y, por lo tanto, puede ser más sensible al ruido, lo que puede llevar a sobreajuste.\n",
    "\n",
    "- Kernel: El parámetro kernel define la función de transformación que se utiliza para convertir los datos a un espacio de mayor dimensión donde un hiperplano lineal pueda separarlos. Dependiendo del tipo de datos y el problema, diferentes kernels pueden ser más efectivos.\n",
    "\n",
    "- Degree: El parámetro degree controla el grado del polinomio utilizado en el kernel 'poly'. Es decir, determina la complejidad de la transformación polinómica aplicada a los datos. Un degree bajo (ej. 2) genera una transformación más simple y un modelo más lineal. Un degree alto (ej. 5 o más) genera una transformación más compleja, lo que puede llevar a un modelo más flexible pero también a sobreajuste si el grado es demasiado alto.\n",
    "\n",
    "- Gamma: El parámetro gamma controla la influencia de los puntos de datos sobre el margen de decisión. En el caso del kernel 'rbf', gamma define la forma de la función de similitud que se utiliza para calcular las distancias entre los puntos. Un gamma bajo (ej. 0.01) significa que la influencia de cada punto en el margen es más amplia, lo que lleva a un modelo más generalizado. Un gamma alto (ej. 100) significa que la influencia de cada punto es más limitada, y el modelo se vuelve más flexible, pero puede sobreajustarse fácilmente."
   ]
  },
  {
   "cell_type": "markdown",
   "id": "d8602f42",
   "metadata": {},
   "source": [
    "Además de los hiperparámetros que acabas de descubrir, la implementación de sklearn tiene el hiperparámetro decision_function_shape\n",
    "\n",
    "¿Qué indica ese parámetro? ¿Para qué puede ser útil?"
   ]
  },
  {
   "cell_type": "markdown",
   "id": "3ed9711c",
   "metadata": {},
   "source": [
    "El parámetro decision_function_shape controla cómo se calcula la función de decisión para los problemas multiclase. En SVM, la clasificación se basa en encontrar un hiperplano de separación que divida las clases. En un problema de clasificación binaria, esto es directo, pero en un problema multiclase, se deben realizar múltiples comparaciones para decidir a qué clase pertenece un punto de datos.\n",
    "\n",
    "Tiene dos posibles:\n",
    "\n",
    "- OVO (One-Versus-One): Enfoque de clasificación donde se entrena un clasificador SVM para cada par de clases. Es útil cuando tienes un número limitado de clases.\n",
    "\n",
    "- OVR (One-Versus-Rest): Enfoque donde se entrena un clasificador SVM para cada clase frente al resto. Es más eficiente para problemas con muchas clases.\n",
    "\n",
    "¿Para qué puede ser útil?\n",
    "\n",
    "'ovo' es útil cuando se tiene un número pequeño de clases y se desea un enfoque más detallado.\n",
    "'ovr' es preferible cuando se tiene un número grande de clases, ya que es más eficiente en términos de recursos computacionales.\n",
    "\n",
    "\n",
    "\n",
    "\n",
    "\n",
    "\n"
   ]
  },
  {
   "cell_type": "markdown",
   "id": "4c6c62e3-fb4a-450a-8f02-78c15827e995",
   "metadata": {},
   "source": [
    "Tenemos un dataset de más de medio millón de instancias, y para el objetivo de la actividad no hacen falta tantas. Por eso, antes de aplicar SVM vamos a reducir el número de instancias. SVM requiere una gran carga computacional y con ese volumen de instancias el tiempo requerido sería demasiado elevado."
   ]
  },
  {
   "cell_type": "code",
   "execution_count": null,
   "id": "05b08dcb",
   "metadata": {},
   "outputs": [
    {
     "name": "stdout",
     "output_type": "stream",
     "text": [
      "Distribución original:\n",
      "Cover_type\n",
      "2    0.487599\n",
      "1    0.364605\n",
      "3    0.061537\n",
      "7    0.035300\n",
      "6    0.029891\n",
      "5    0.016339\n",
      "4    0.004728\n",
      "Name: proportion, dtype: float64\n",
      "\n",
      "Distribución en el subconjunto:\n",
      "Cover_type\n",
      "2    0.48760\n",
      "1    0.36460\n",
      "3    0.06154\n",
      "7    0.03530\n",
      "6    0.02989\n",
      "5    0.01634\n",
      "4    0.00473\n",
      "Name: proportion, dtype: float64\n"
     ]
    }
   ],
   "source": [
    "# Suponiendo que tu dataframe se llama df y la columna de la clase es \"target\"\n",
    "df_subset, _ = train_test_split(df, train_size=100000, stratify=df[\"Cover_type\"], random_state=42)\n",
    "\n",
    "# Verificar distribución de clases antes y después\n",
    "print(\"Distribución original:\")\n",
    "print(df[\"Cover_type\"].value_counts(normalize=True))\n",
    "\n",
    "print(\"\\nDistribución en el subconjunto:\")\n",
    "print(df_subset[\"Cover_type\"].value_counts(normalize=True))\n"
   ]
  },
  {
   "cell_type": "markdown",
   "id": "34b0776e-c261-4ce3-805a-7aea13356b39",
   "metadata": {},
   "source": [
    "Nota: recuerda revisar que esta manera de seleccionar un subconjunto de instancias no altera la clase objetivo. Deberías tener un porcentaje similar de instancias de cada clase. Si no fuera así, deberás cambiar la manera de seleccionar el subconjunto."
   ]
  },
  {
   "cell_type": "code",
   "execution_count": null,
   "id": "8701f7a1-9112-4c27-88e7-2c105f90f048",
   "metadata": {},
   "outputs": [],
   "source": [
    "X = df_subset.drop(columns=[\"Cover_type\"]) \n",
    "y = df_subset[\"Cover_type\"]"
   ]
  },
  {
   "cell_type": "markdown",
   "id": "155f3ed0",
   "metadata": {},
   "source": [
    "Como primer paso para crear un clasificador de SVM hay que decidir si hay que hacer algún preprocesamiento adicional sobre los datos. ¿Hace falta normalizar los datos?"
   ]
  },
  {
   "cell_type": "markdown",
   "id": "560270ce",
   "metadata": {},
   "source": [
    "En SVM si es necesario normalizar. Para ello vamos a usar minmax scaler"
   ]
  },
  {
   "cell_type": "code",
   "execution_count": null,
   "id": "1fa219b7",
   "metadata": {},
   "outputs": [],
   "source": [
    "scaler = MinMaxScaler()\n",
    "X_scaled = scaler.fit_transform(X)"
   ]
  },
  {
   "cell_type": "code",
   "execution_count": null,
   "id": "24e4326b",
   "metadata": {},
   "outputs": [],
   "source": [
    "X_train,X_test,y_train,y_test = train_test_split(X, y, test_size=0.2, random_state=42)"
   ]
  },
  {
   "cell_type": "markdown",
   "id": "f773c8f8",
   "metadata": {},
   "source": [
    "Entrena un conjunto de modelos de SVM que utilicen todas las variables del dataset, con C = 0.1 hasta 1000 con cinco valores diferentes; kernel radial, y gamma con valor scale."
   ]
  },
  {
   "cell_type": "code",
   "execution_count": null,
   "id": "3af670f1",
   "metadata": {},
   "outputs": [
    {
     "name": "stdout",
     "output_type": "stream",
     "text": [
      "Modelo SVM con C=0.1 tiene una precisión de: 0.4693\n",
      "Modelo SVM con C=1 tiene una precisión de: 0.5186\n",
      "Modelo SVM con C=10 tiene una precisión de: 0.5521\n",
      "Modelo SVM con C=100 tiene una precisión de: 0.5786\n",
      "Modelo SVM con C=1000 tiene una precisión de: 0.6130\n",
      "\n",
      "Resultados de precisión para cada valor de C:\n",
      "        C  Accuracy\n",
      "0     0.1   0.46930\n",
      "1     1.0   0.51860\n",
      "2    10.0   0.55210\n",
      "3   100.0   0.57860\n",
      "4  1000.0   0.61305\n"
     ]
    }
   ],
   "source": [
    "C_values = [0.1, 1, 10, 100, 1000]\n",
    "\n",
    "models = []\n",
    "\n",
    "results = {}\n",
    "\n",
    "for C_value in C_values:\n",
    "    svm = SVC(C=C_value, kernel='rbf', gamma='scale', class_weight='balanced',random_state=42)\n",
    "    svm.fit(X_train, y_train)\n",
    "    \n",
    "    # Predecir sobre el conjunto de prueba\n",
    "    y_pred = svm.predict(X_test)\n",
    "    \n",
    "    # Evaluar el modelo\n",
    "    accuracy = accuracy_score(y_test, y_pred)\n",
    "    \n",
    "    # Almacenar los resultados\n",
    "    results[C_value] = {\n",
    "        \"Model\": svm,\n",
    "        \"Accuracy\": accuracy\n",
    "    }\n",
    "    \n",
    "    # Mostrar el resultado para cada modelo\n",
    "    print(f\"Modelo SVM con C={C_value} tiene una precisión de: {accuracy:.4f}\")\n",
    "\n",
    "    models.append(svm)\n",
    "\n",
    "# Ver los resultados en un formato más estructurado\n",
    "results_df = pd.DataFrame({\n",
    "    \"C\": C_values,\n",
    "    \"Accuracy\": [result[\"Accuracy\"] for result in results.values()]\n",
    "})\n",
    "\n",
    "print(\"\\nResultados de precisión para cada valor de C:\")\n",
    "print(results_df)"
   ]
  },
  {
   "cell_type": "markdown",
   "id": "0ffaa64a",
   "metadata": {},
   "source": [
    "Después de hacer el entrenamiento, visualiza las matrices de confusión de los modelos entrenados."
   ]
  },
  {
   "cell_type": "code",
   "execution_count": null,
   "id": "579a7b00",
   "metadata": {},
   "outputs": [
    {
     "name": "stdout",
     "output_type": "stream",
     "text": [
      "Matriz de confusión para modelo 0 con C=0.1:\n",
      "[[3866  953    2    0  680    8 1708]\n",
      " [2346 3735  259    0 2886  352  220]\n",
      " [   0   30  541  222   78  363    0]\n",
      " [   0    0   26   76    0    6    0]\n",
      " [   0   44    4    0  258   16    0]\n",
      " [   0    4  160  108   83  240    0]\n",
      " [  54    2    0    0    0    0  670]]\n",
      "Matriz de confusión para modelo 1 con C=1:\n",
      "[[4383 1115   11    0  458   12 1238]\n",
      " [2329 4088  311    0 2477  455  138]\n",
      " [   0    3  559  180   74  418    0]\n",
      " [   0    0   11   86    0   11    0]\n",
      " [   1   31    5    0  270   15    0]\n",
      " [   0    5  159   73   35  323    0]\n",
      " [  61    1    0    0    1    0  663]]\n",
      "Matriz de confusión para modelo 2 con C=10:\n",
      "[[4669 1021   12    0  397   12 1106]\n",
      " [2325 4279  366    2 2298  410  118]\n",
      " [   0    1  694  160   53  326    0]\n",
      " [   0    0    7   95    0    6    0]\n",
      " [   2   18   12    0  277   13    0]\n",
      " [   0    7  149   50   27  362    0]\n",
      " [  58    0    0    0    2    0  666]]\n",
      "Matriz de confusión para modelo 3 con C=100:\n",
      "[[4831 1007    2    0  361   13 1003]\n",
      " [2269 4538  352    2 2096  418  123]\n",
      " [   0    3  750  126   39  316    0]\n",
      " [   0    0    6   97    0    5    0]\n",
      " [   2   14   13    0  280   13    0]\n",
      " [   0    3  131   31   25  405    0]\n",
      " [  53    1    1    0    0    0  671]]\n",
      "Matriz de confusión para modelo 4 con C=1000:\n",
      "[[4978 1014    5    0  313   12  895]\n",
      " [2225 4964  347    0 1758  393  111]\n",
      " [   0    5  812   98   32  287    0]\n",
      " [   0    0    4   99    0    5    0]\n",
      " [   2   10   10    0  289   11    0]\n",
      " [   0    7  110   24    9  445    0]\n",
      " [  50    2    0    0    0    0  674]]\n"
     ]
    }
   ],
   "source": [
    "cm_list = []\n",
    "\n",
    "for i in range(0,5):\n",
    "    y_pred = models[i].predict(X_test)\n",
    "\n",
    "    print(f\"Matriz de confusión para modelo {i} con C={C_values[i]}:\")\n",
    "    cm = confusion_matrix(y_test, y_pred)\n",
    "\n",
    "    print(cm)\n",
    "\n",
    "    cm_list.append(cm)"
   ]
  },
  {
   "cell_type": "code",
   "execution_count": null,
   "id": "639cd49e",
   "metadata": {},
   "outputs": [
    {
     "name": "stdout",
     "output_type": "stream",
     "text": [
      "Resultados para modelo 0 con c_value 0.1:\n",
      "Nº of correct predictions in class 1: 3866. %: 53.57%\n",
      "Nº of correct predictions in class 2: 3735. %: 38.12%\n",
      "Nº of correct predictions in class 3: 541. %: 43.84%\n",
      "Nº of correct predictions in class 4: 76. %: 70.37%\n",
      "Nº of correct predictions in class 5: 258. %: 80.12%\n",
      "Nº of correct predictions in class 6: 240. %: 40.34%\n",
      "Nº of correct predictions in class 7: 670. %: 92.29%\n",
      "Total de predicciones correctas: 9386.\n",
      "\n",
      "Resultados para modelo 1 con c_value 1:\n",
      "Nº of correct predictions in class 1: 4383. %: 60.73%\n",
      "Nº of correct predictions in class 2: 4088. %: 41.72%\n",
      "Nº of correct predictions in class 3: 559. %: 45.30%\n",
      "Nº of correct predictions in class 4: 86. %: 79.63%\n",
      "Nº of correct predictions in class 5: 270. %: 83.85%\n",
      "Nº of correct predictions in class 6: 323. %: 54.29%\n",
      "Nº of correct predictions in class 7: 663. %: 91.32%\n",
      "Total de predicciones correctas: 10372.\n",
      "\n",
      "Resultados para modelo 2 con c_value 10:\n",
      "Nº of correct predictions in class 1: 4669. %: 64.69%\n",
      "Nº of correct predictions in class 2: 4279. %: 43.67%\n",
      "Nº of correct predictions in class 3: 694. %: 56.24%\n",
      "Nº of correct predictions in class 4: 95. %: 87.96%\n",
      "Nº of correct predictions in class 5: 277. %: 86.02%\n",
      "Nº of correct predictions in class 6: 362. %: 60.84%\n",
      "Nº of correct predictions in class 7: 666. %: 91.74%\n",
      "Total de predicciones correctas: 11042.\n",
      "\n",
      "Resultados para modelo 3 con c_value 100:\n",
      "Nº of correct predictions in class 1: 4831. %: 66.94%\n",
      "Nº of correct predictions in class 2: 4538. %: 46.32%\n",
      "Nº of correct predictions in class 3: 750. %: 60.78%\n",
      "Nº of correct predictions in class 4: 97. %: 89.81%\n",
      "Nº of correct predictions in class 5: 280. %: 86.96%\n",
      "Nº of correct predictions in class 6: 405. %: 68.07%\n",
      "Nº of correct predictions in class 7: 671. %: 92.42%\n",
      "Total de predicciones correctas: 11572.\n",
      "\n",
      "Resultados para modelo 4 con c_value 1000:\n",
      "Nº of correct predictions in class 1: 4978. %: 68.98%\n",
      "Nº of correct predictions in class 2: 4964. %: 50.66%\n",
      "Nº of correct predictions in class 3: 812. %: 65.80%\n",
      "Nº of correct predictions in class 4: 99. %: 91.67%\n",
      "Nº of correct predictions in class 5: 289. %: 89.75%\n",
      "Nº of correct predictions in class 6: 445. %: 74.79%\n",
      "Nº of correct predictions in class 7: 674. %: 92.84%\n",
      "Total de predicciones correctas: 12261.\n",
      "\n"
     ]
    }
   ],
   "source": [
    "for i in range(0,5):\n",
    "    clase = 0\n",
    "    total = 0\n",
    "    print(f\"Resultados para modelo {i} con c_value {C_values[i]}:\")\n",
    "    for j in cm_list[i]:\n",
    "        sum = 0\n",
    "        for k in j:\n",
    "            sum += k\n",
    "        print(f\"Nº of correct predictions in class {clase+1}: {j[clase]}. %: {j[clase]/sum * 100:.2f}%\")   \n",
    "        total += j[clase]\n",
    "        clase += 1\n",
    "    print(f\"Total de predicciones correctas: {total}.\\n\")\n",
    "    "
   ]
  },
  {
   "cell_type": "markdown",
   "id": "d04ad53c",
   "metadata": {},
   "source": [
    "¿Cuántos ejemplos ha clasificado correctamente cada uno de los modelos?"
   ]
  },
  {
   "cell_type": "markdown",
   "id": "8d46849d",
   "metadata": {},
   "source": [
    "Tal y como podemos ver en el print, las predicciones correctas de cada modelo son las siguientes:\n",
    "\n",
    "- Primer modelo (c = 0.1): 7281.\n",
    "\n",
    "- Segundo modelo (c = 1): 9972.\n",
    "\n",
    "- Tercer modelo (c = 10): 10723.\n",
    "\n",
    "- Cuarto modelo (c = 100): 11360.\n",
    "\n",
    "- Quinto modelo (c = 1000): 11984."
   ]
  },
  {
   "cell_type": "markdown",
   "id": "6ddb9cf9",
   "metadata": {},
   "source": [
    "¿Cuál de todos los modelos que has entrenado obtiene mejores resultados de precision para todas las clases? Si no hay ninguno que consideres que sea óptimo, explica cómo se comporta para cada clase el modelo que consideres que tiene mejores resultados."
   ]
  },
  {
   "cell_type": "markdown",
   "id": "071dcde7",
   "metadata": {},
   "source": [
    "Como podemos ver en los prints anteriores, el modelo que ha obteneido mejores resultados es el que tiene un c = 1000, donde los resultados para las diferentes clases son los siguientes:"
   ]
  },
  {
   "cell_type": "code",
   "execution_count": null,
   "id": "1278fd97",
   "metadata": {},
   "outputs": [
    {
     "name": "stdout",
     "output_type": "stream",
     "text": [
      "Resultados para modelo con c_value 1000:\n",
      "Nº of correct predictions in class 1: 4978. %: 68.98%\n",
      "Nº of correct predictions in class 2: 4964. %: 50.66%\n",
      "Nº of correct predictions in class 3: 812. %: 65.80%\n",
      "Nº of correct predictions in class 4: 99. %: 91.67%\n",
      "Nº of correct predictions in class 5: 289. %: 89.75%\n",
      "Nº of correct predictions in class 6: 445. %: 74.79%\n",
      "Nº of correct predictions in class 7: 674. %: 92.84%\n",
      "Total de predicciones correctas: 12261.\n",
      "\n"
     ]
    }
   ],
   "source": [
    "clase = 0\n",
    "total = 0\n",
    "print(f\"Resultados para modelo con c_value {C_values[4]}:\")\n",
    "for j in cm_list[4]:\n",
    "    sum = 0\n",
    "    for k in j:\n",
    "        sum += k\n",
    "    print(f\"Nº of correct predictions in class {clase+1}: {j[clase]}. %: {j[clase]/sum * 100:.2f}%\")   \n",
    "    total += j[clase]\n",
    "    clase += 1\n",
    "print(f\"Total de predicciones correctas: {total}.\\n\")"
   ]
  },
  {
   "cell_type": "markdown",
   "id": "ed4bd6a8",
   "metadata": {},
   "source": [
    "En este modelo obtenemos muy buenos resultados para las clases 4, 5 y 7, resultados aceptables para la 1, la 3 y la 6, mientras que para la clase 3 consigue resultados peores. Esto se debe a que el dataset es desbalanceado y el hiperparámetro class weight hace que tome mas en cuenta las clases minoritarias que las mayoritarias.\n",
    "\n",
    "Este modelo aunque no es óptimo, da unos resultados aceptables en la mayoría de clases. Para intentar crear un modelo que de mejores resultados, en el siguiente apartado haremos un gridsearch para buscar uno que de los mejroes resultados posibles."
   ]
  },
  {
   "cell_type": "markdown",
   "id": "24bd428f",
   "metadata": {},
   "source": [
    "Selecciona el modelo que consideras que obtiene mejores resultados y realiza las predicciones con el conjunto de datos de test."
   ]
  },
  {
   "cell_type": "code",
   "execution_count": null,
   "id": "5eef52fa",
   "metadata": {},
   "outputs": [],
   "source": [
    "# param_grid = {\n",
    "#     'C': [0.1, 1, 10, 100, 1000],   # Valores de C a probar\n",
    "#     'gamma': ['scale', 'auto', 0.001, 0.01, 0.1, 1],  # Valores de gamma\n",
    "#     'kernel': ['rbf'],   # Solo usamos kernel radial\n",
    "#     'class_weight': ['balanced'],\n",
    "#     'decision_function_shape': ['ovo', 'ovr', None]\n",
    "# }\n",
    "\n",
    "# # Configurar el GridSearch con validación cruzada\n",
    "# grid_search = GridSearchCV(SVC(), param_grid, cv=5, scoring='f1_macro', n_jobs=-1, verbose=3)\n",
    "# grid_search.fit(X_train, y_train)\n",
    "\n",
    "# # Mostrar los mejores hiperparámetros encontrados\n",
    "# print(f\"Mejores parámetros: {grid_search.best_params_}\")\n",
    "\n",
    "# # Evaluar el mejor modelo en el conjunto de prueba\n",
    "# best_model = grid_search.best_estimator_\n",
    "# y_pred = best_model.predict(X_test)\n",
    "\n",
    "# accuracy = accuracy_score(y_test, y_pred)\n",
    "\n",
    "# print(\"Precisión del mejor modelo: \", accuracy)"
   ]
  },
  {
   "attachments": {
    "image.png": {
     "image/png": "[encoded data removed]"
    }
   },
   "cell_type": "markdown",
   "id": "5a5c82b2",
   "metadata": {},
   "source": [
    "Tras estar casi dos dias ejecutandose y calculando que puede tardar dos días más si cada modelo tarda casi media hora, voy a quitar parametros para que sea menos intenso.\n",
    "\n",
    "![image.png](attachment:image.png)"
   ]
  },
  {
   "cell_type": "code",
   "execution_count": null,
   "id": "2bcd0ee6",
   "metadata": {},
   "outputs": [
    {
     "name": "stdout",
     "output_type": "stream",
     "text": [
      "Fitting 5 folds for each of 18 candidates, totalling 90 fits\n"
     ]
    },
    {
     "name": "stderr",
     "output_type": "stream",
     "text": [
      "C:\\Users\\Usuario\\AppData\\Local\\Packages\\PythonSoftwareFoundation.Python.3.11_qbz5n2kfra8p0\\LocalCache\\local-packages\\Python311\\site-packages\\sklearn\\model_selection\\_validation.py:540: FitFailedWarning: \n",
      "30 fits failed out of a total of 90.\n",
      "The score on these train-test partitions for these parameters will be set to nan.\n",
      "If these failures are not expected, you can try to debug them by setting error_score='raise'.\n",
      "\n",
      "Below are more details about the failures:\n",
      "--------------------------------------------------------------------------------\n",
      "6 fits failed with the following error:\n",
      "Traceback (most recent call last):\n",
      "  File \"C:\\Users\\Usuario\\AppData\\Local\\Packages\\PythonSoftwareFoundation.Python.3.11_qbz5n2kfra8p0\\LocalCache\\local-packages\\Python311\\site-packages\\sklearn\\model_selection\\_validation.py\", line 888, in _fit_and_score\n",
      "    estimator.fit(X_train, y_train, **fit_params)\n",
      "  File \"C:\\Users\\Usuario\\AppData\\Local\\Packages\\PythonSoftwareFoundation.Python.3.11_qbz5n2kfra8p0\\LocalCache\\local-packages\\Python311\\site-packages\\sklearn\\base.py\", line 1466, in wrapper\n",
      "    estimator._validate_params()\n",
      "  File \"C:\\Users\\Usuario\\AppData\\Local\\Packages\\PythonSoftwareFoundation.Python.3.11_qbz5n2kfra8p0\\LocalCache\\local-packages\\Python311\\site-packages\\sklearn\\base.py\", line 666, in _validate_params\n",
      "    validate_parameter_constraints(\n",
      "  File \"C:\\Users\\Usuario\\AppData\\Local\\Packages\\PythonSoftwareFoundation.Python.3.11_qbz5n2kfra8p0\\LocalCache\\local-packages\\Python311\\site-packages\\sklearn\\utils\\_param_validation.py\", line 95, in validate_parameter_constraints\n",
      "    raise InvalidParameterError(\n",
      "sklearn.utils._param_validation.InvalidParameterError: The 'decision_function_shape' parameter of SVC must be a str among {'ovo', 'ovr'}. Got None instead.\n",
      "\n",
      "--------------------------------------------------------------------------------\n",
      "24 fits failed with the following error:\n",
      "Traceback (most recent call last):\n",
      "  File \"C:\\Users\\Usuario\\AppData\\Local\\Packages\\PythonSoftwareFoundation.Python.3.11_qbz5n2kfra8p0\\LocalCache\\local-packages\\Python311\\site-packages\\sklearn\\model_selection\\_validation.py\", line 888, in _fit_and_score\n",
      "    estimator.fit(X_train, y_train, **fit_params)\n",
      "  File \"C:\\Users\\Usuario\\AppData\\Local\\Packages\\PythonSoftwareFoundation.Python.3.11_qbz5n2kfra8p0\\LocalCache\\local-packages\\Python311\\site-packages\\sklearn\\base.py\", line 1466, in wrapper\n",
      "    estimator._validate_params()\n",
      "  File \"C:\\Users\\Usuario\\AppData\\Local\\Packages\\PythonSoftwareFoundation.Python.3.11_qbz5n2kfra8p0\\LocalCache\\local-packages\\Python311\\site-packages\\sklearn\\base.py\", line 666, in _validate_params\n",
      "    validate_parameter_constraints(\n",
      "  File \"C:\\Users\\Usuario\\AppData\\Local\\Packages\\PythonSoftwareFoundation.Python.3.11_qbz5n2kfra8p0\\LocalCache\\local-packages\\Python311\\site-packages\\sklearn\\utils\\_param_validation.py\", line 95, in validate_parameter_constraints\n",
      "    raise InvalidParameterError(\n",
      "sklearn.utils._param_validation.InvalidParameterError: The 'decision_function_shape' parameter of SVC must be a str among {'ovr', 'ovo'}. Got None instead.\n",
      "\n",
      "  warnings.warn(some_fits_failed_message, FitFailedWarning)\n",
      "C:\\Users\\Usuario\\AppData\\Local\\Packages\\PythonSoftwareFoundation.Python.3.11_qbz5n2kfra8p0\\LocalCache\\local-packages\\Python311\\site-packages\\sklearn\\model_selection\\_search.py:1103: UserWarning: One or more of the test scores are non-finite: [0.47134986 0.09372382 0.47134986 0.09372382        nan        nan\n",
      " 0.5065985  0.09372382 0.5065985  0.09372382        nan        nan\n",
      " 0.53876923 0.09372382 0.53876923 0.09372382        nan        nan]\n",
      "  warnings.warn(\n"
     ]
    },
    {
     "name": "stdout",
     "output_type": "stream",
     "text": [
      "Mejores parámetros: {'C': 1000, 'class_weight': 'balanced', 'decision_function_shape': 'ovo', 'gamma': 'scale', 'kernel': 'rbf'}\n",
      "Precisión del mejor modelo:  0.61305\n"
     ]
    }
   ],
   "source": [
    "param_grid = {\n",
    "    'C': [10, 100, 1000],\n",
    "    'gamma': ['scale', 'auto'],  \n",
    "    'kernel': ['rbf'],\n",
    "    'class_weight': ['balanced'],\n",
    "    'decision_function_shape': ['ovo', 'ovr', None]\n",
    "}\n",
    "\n",
    "# Configurar el GridSearch con validación cruzada\n",
    "grid_search = GridSearchCV(SVC(), param_grid, cv=5, scoring='f1_macro', n_jobs=-1, verbose=3)\n",
    "grid_search.fit(X_train, y_train)\n",
    "\n",
    "# Mostrar los mejores hiperparámetros encontrados\n",
    "print(f\"Mejores parámetros: {grid_search.best_params_}\")\n",
    "\n",
    "# Evaluar el mejor modelo en el conjunto de prueba\n",
    "best_model = grid_search.best_estimator_\n",
    "y_pred = best_model.predict(X_test)\n",
    "\n",
    "accuracy = accuracy_score(y_test, y_pred)\n",
    "\n",
    "print(\"Precisión del mejor modelo: \", accuracy)"
   ]
  },
  {
   "cell_type": "markdown",
   "id": "45dde087",
   "metadata": {},
   "source": [
    "Como vemos, tras hacer un grid search hemos comprobado que el mejor modelo es el que ya habíamos entrenado anteriormente.\n",
    "\n",
    "Como vemos, ya hemos calculado los resultados de test, los cuales dan una precisión del 60%."
   ]
  },
  {
   "cell_type": "markdown",
   "id": "1156e32d",
   "metadata": {},
   "source": [
    "Visualiza la matriz de confusión de los datos de test.\n",
    "- ¿Cuántos ejemplos ha clasificado bien el modelo?\n",
    "- ¿Cuántos ejemplos ha clasificado de manera errónea?"
   ]
  },
  {
   "cell_type": "code",
   "execution_count": null,
   "id": "ac8a1b6f",
   "metadata": {},
   "outputs": [
    {
     "name": "stdout",
     "output_type": "stream",
     "text": [
      "[[4978 1014    5    0  313   12  895]\n",
      " [2225 4964  347    0 1758  393  111]\n",
      " [   0    5  812   98   32  287    0]\n",
      " [   0    0    4   99    0    5    0]\n",
      " [   2   10   10    0  289   11    0]\n",
      " [   0    7  110   24    9  445    0]\n",
      " [  50    2    0    0    0    0  674]]\n"
     ]
    }
   ],
   "source": [
    "y_pred = best_model.predict(X_test)\n",
    "cm = confusion_matrix(y_test, y_pred)\n",
    "print(cm)"
   ]
  },
  {
   "cell_type": "code",
   "execution_count": null,
   "id": "cd8d7320",
   "metadata": {},
   "outputs": [
    {
     "name": "stdout",
     "output_type": "stream",
     "text": [
      "Nº of correct predictions in class 1: 4978. %: 68.98%\n",
      "Nº of correct predictions in class 2: 4964. %: 50.66%\n",
      "Nº of correct predictions in class 3: 812. %: 65.80%\n",
      "Nº of correct predictions in class 4: 99. %: 91.67%\n",
      "Nº of correct predictions in class 5: 289. %: 89.75%\n",
      "Nº of correct predictions in class 6: 445. %: 74.79%\n",
      "Nº of correct predictions in class 7: 674. %: 92.84%\n"
     ]
    }
   ],
   "source": [
    "clase = 0\n",
    "for j in cm:\n",
    "    sum = 0\n",
    "    for k in j:\n",
    "        sum += k\n",
    "    print(f\"Nº of correct predictions in class {clase+1}: {j[clase]}. %: {j[clase]/sum * 100:.2f}%\")   \n",
    "    clase += 1"
   ]
  },
  {
   "cell_type": "code",
   "execution_count": null,
   "id": "8244c217",
   "metadata": {},
   "outputs": [
    {
     "name": "stdout",
     "output_type": "stream",
     "text": [
      "Total de predicciones correctas: 12261.\n"
     ]
    }
   ],
   "source": [
    "clase = 0\n",
    "total = 0\n",
    "for i in cm:\n",
    "    sum = 0\n",
    "    for j in i:\n",
    "        sum += j \n",
    "    total += i[clase]\n",
    "    \n",
    "    clase += 1\n",
    "\n",
    "print(f\"Total de predicciones correctas: {total}.\")"
   ]
  },
  {
   "cell_type": "code",
   "execution_count": null,
   "id": "14758196",
   "metadata": {},
   "outputs": [
    {
     "name": "stdout",
     "output_type": "stream",
     "text": [
      "Total de predicciones erroneas: 7739.\n"
     ]
    }
   ],
   "source": [
    "print(f\"Total de predicciones erroneas: {len(y_test) - total}.\")"
   ]
  },
  {
   "cell_type": "markdown",
   "id": "35a31e61",
   "metadata": {},
   "source": [
    "También nos interesa ver el sobreajuste, para ello vamos a ver la diferencia del rendimiento del modelo comparando cuando predice datos vistos (train) y no vistos (test)"
   ]
  },
  {
   "cell_type": "code",
   "execution_count": null,
   "id": "fb3b558c",
   "metadata": {},
   "outputs": [
    {
     "name": "stdout",
     "output_type": "stream",
     "text": [
      "[[4978 1014    5    0  313   12  895]\n",
      " [2225 4964  347    0 1758  393  111]\n",
      " [   0    5  812   98   32  287    0]\n",
      " [   0    0    4   99    0    5    0]\n",
      " [   2   10   10    0  289   11    0]\n",
      " [   0    7  110   24    9  445    0]\n",
      " [  50    2    0    0    0    0  674]]\n"
     ]
    }
   ],
   "source": [
    "y_pred_train = best_model.predict(X_train)\n",
    "cmb = confusion_matrix(y_train, y_pred_train)\n",
    "print(cm)"
   ]
  },
  {
   "cell_type": "code",
   "execution_count": null,
   "id": "fac8ba17",
   "metadata": {},
   "outputs": [
    {
     "name": "stdout",
     "output_type": "stream",
     "text": [
      "Nº of correct predictions in class 1: 20321. %: 69.49%\n",
      "Nº of correct predictions in class 2: 19924. %: 51.14%\n",
      "Nº of correct predictions in class 3: 3196. %: 64.96%\n",
      "Nº of correct predictions in class 4: 341. %: 93.42%\n",
      "Nº of correct predictions in class 5: 1206. %: 91.92%\n",
      "Nº of correct predictions in class 6: 1837. %: 76.73%\n",
      "Nº of correct predictions in class 7: 2648. %: 94.44%\n"
     ]
    }
   ],
   "source": [
    "clase = 0\n",
    "for j in cmb:\n",
    "    sum = 0\n",
    "    for k in j:\n",
    "        sum += k\n",
    "    print(f\"Nº of correct predictions in class {clase+1}: {j[clase]}. %: {j[clase]/sum * 100:.2f}%\")   \n",
    "    clase += 1"
   ]
  },
  {
   "cell_type": "markdown",
   "metadata": {},
   "source": [
    "Como podemos ver, los porcentajes de las predicciones correctas de cada clase no cambian mucho, por lo que podemos determinar que no hay sobreajuste a los datos de entrenamiento."
   ]
  },
  {
   "cell_type": "markdown",
   "id": "b08b873b",
   "metadata": {},
   "source": [
    "Visualiza los valores de precision, recall, f1 para cada una de las clases. \n",
    "- ¿Clasifica de igual manera todas las clases o hay alguna para la que el modelo tiene una mayor capacidad predictiva?"
   ]
  },
  {
   "cell_type": "code",
   "execution_count": null,
   "id": "61426541",
   "metadata": {},
   "outputs": [
    {
     "name": "stdout",
     "output_type": "stream",
     "text": [
      "\n",
      "Reporte de clasificación:\n",
      "              precision    recall  f1-score   support\n",
      "\n",
      "           1       0.69      0.69      0.69      7217\n",
      "           2       0.83      0.51      0.63      9798\n",
      "           3       0.63      0.66      0.64      1234\n",
      "           4       0.45      0.92      0.60       108\n",
      "           5       0.12      0.90      0.21       322\n",
      "           6       0.39      0.75      0.51       595\n",
      "           7       0.40      0.93      0.56       726\n",
      "\n",
      "    accuracy                           0.61     20000\n",
      "   macro avg       0.50      0.76      0.55     20000\n",
      "weighted avg       0.72      0.61      0.64     20000\n",
      "\n"
     ]
    }
   ],
   "source": [
    "print(\"\\nReporte de clasificación:\")\n",
    "print(classification_report(y_test, y_pred))"
   ]
  },
  {
   "cell_type": "markdown",
   "id": "f422e1d4",
   "metadata": {},
   "source": [
    "Como podemos ver, el modelo tiene capacidad predictiva diferente para cada una de las clases, vamos a analizar el reporte de clasificación:\n",
    "\n",
    "Clases con mejor rendimiento:\n",
    "\n",
    "- Clase 2: Alta precisión (0.83) pero bajo recall (0.51), lo que indica que el modelo es bueno prediciendo correctamente cuando es clase 2, pero no detecta todos los casos.\n",
    "- Clase 1: Tiene valores equilibrados de precisión (0.69) y recall (0.69), lo que sugiere un buen rendimiento.\n",
    "\n",
    "Clases con peor rendimiento:\n",
    "\n",
    "- Clase 5: Extremadamente baja precisión (0.12) pero alto recall (0.90), lo que significa que el modelo etiqueta demasiados casos como clase 5 aunque no lo sean.\n",
    "- Clase 4 y Clase 7: Ambas tienen un recall muy alto (0.92 y 0.93, respectivamente) pero precisión relativamente baja (0.45 y 0.40), lo que sugiere que el modelo clasifica muchas instancias en estas clases, aunque muchas sean errores.\n",
    "\n",
    "Rendimiento general:\n",
    "\n",
    "- La precisión macro promedio es 0.50, lo que indica que, en promedio, la capacidad del modelo para evitar falsos positivos es moderada.\n",
    "- El recall macro promedio es 0.76, lo que sugiere que el modelo tiene una alta tendencia a clasificar instancias en sus clases verdaderas, pero a costa de una baja precisión.\n",
    "- El f1-score macro de 0.55 refleja que el balance entre precisión y recall es desigual para muchas clases.\n",
    "\n",
    "\n",
    "Para concluir, podemos determinar que el modelo funciona bien para algunas clases (1 y 2), pero tiene problemas con otras, especialmente aquellas con baja precisión como las clases 5 y 7. Parece que favorece el recall sobre la precisión, es decir, prefiere clasificar instancias en una clase aunque se equivoque, lo que puede ser problemático si se requiere precisión en ciertas aplicaciones"
   ]
  },
  {
   "cell_type": "markdown",
   "id": "c0629d8f",
   "metadata": {},
   "source": [
    "**Comparativa**\n",
    "\n",
    "En base al EDA realizado, a las decisiones tomadas sobre los datos e hiperparámetros y a las características computacionales de tu equipo. ¿Qué modelo obtiene mejores resultados de clasificación?"
   ]
  },
  {
   "cell_type": "markdown",
   "metadata": {},
   "source": [
    "Comparando los dos modelos (SVM vs. Random Forest) que hemso determinado que son los mejores, podemos ver que Random Forest (RF) supera a SVM en la mayoría de las métricas clave. Para demostrarlo vamos a comparar los reports de clasificación.\n",
    "\n",
    "1. Precisión \n",
    "\n",
    "RF tiene una mayor precisión promedio (0.65 vs. 0.50 en SVM), lo que significa que comete menos falsos positivos en general.\n",
    "\n",
    "En particular, todas las clases tienen una mejor precisión en RF en comparación con SVM.\n",
    "- Clase 1: 0.79 (RF) vs. 0.69 (SVM)\n",
    "- Clase 2: 0.88 (RF) vs. 0.83 (SVM)\n",
    "- Clase 3: 0.83 (RF) vs. 0.63 (SVM)\n",
    "- Clase 4: 0.73 (RF) vs. 0.45 (SVM)\n",
    "- Clase 5: 0.23 (RF) vs. 0.12 (SVM)\n",
    "- Clase 6: 0.54 (RF) vs. 0.39 (SVM)\n",
    "- Clase 7: 0.58 (RF) vs. 0.40 (SVM)\n",
    "\n",
    "Como podemos ver esto se cumple en todas las clases, determinando que RF es mejor en precisión que SVM.\n",
    "\n",
    "2. Recall\n",
    "\n",
    "RF también tiene un mejor recall promedio (0.87 vs. 0.76 en SVM), indicando que identifica más instancias correctas en cada clase.\n",
    "\n",
    "En todas las clases, RF tiene un recall superior o igual al de SVM, lo que indica que detecta más instancias correctamente sin dejar muchas sin clasificar.\n",
    "- Clase 1: 0.78 (RF) vs. 0.69 (SVM)\n",
    "- Clase 2: 0.70 (RF) vs. 0.51 (SVM)\n",
    "- Clase 3: 0.84 (RF) vs. 0.66 (SVM)\n",
    "- Clase 4: 0.95 (RF) vs. 0.92 (SVM)\n",
    "- Clase 5: 0.96 (RF) vs. 0.90 (SVM)\n",
    "- Clase 6: 0.92 (RF) vs. 0.75 (SVM)\n",
    "- Clase 7: 0.96 (RF) vs. 0.93 (SVM)\n",
    "\n",
    "Como podemos ver esto se cumple también para cada una de las clases, determinando que RF es mejor en recall que SVM.\n",
    "\n",
    "3. F1-Score\n",
    "\n",
    "RF tiene una mejor F1-score macro (0.71 vs. 0.55 en SVM), lo que indica que logra un mejor equilibrio entre precisión y recall.\n",
    "\n",
    "En todas las clases, RF tiene un f1-score más alto, lo que significa que su desempeño es más estable y robusto en todas las categorías.\n",
    "\n",
    "4. Accuracy\n",
    "\n",
    "RF tiene una accuracy del 76%, mientras que SVM tiene solo 61%, lo que significa que en general, RF clasifica correctamente un mayor porcentaje de instancias.\n",
    "\n",
    "\n",
    "Por todo esto, se puede determinar que el modelo de Random Forest clasifica mejor las instancias de este dataset."
   ]
  },
  {
   "cell_type": "markdown",
   "id": "2d756202",
   "metadata": {},
   "source": [
    "### Investigación\n",
    "\n",
    "Buscar un artículo científico (https://scholar.google.es/) con un caso de uso de clasificación empleando una de las dos técnicas (o ambas) vistas en la actividad. Los artículos deben estar en revistas científicas, y deben ser posteriores a 2015. No debe utilizar técnicas de Deep Learning."
   ]
  },
  {
   "cell_type": "markdown",
   "id": "5da25f3b",
   "metadata": {},
   "source": [
    "Faruque, M. F., Asaduzzaman, & Sarker, I. H. (2019). Performance analysis of machine learning techniques to predict diabetes mellitus. International Journal of Advanced Computer Science and Applications, 10(1), 1-6.\n",
    "\n",
    "**Objetivo**\n",
    "\n",
    "El objetivo de esta investigación es analizar y comparar la eficacia de diferentes técnicas de machine learning en la predicción de la diabetes mellitus. Los autores buscan identificar el algoritmo que ofrece la mayor precisión en la clasificación de pacientes diabéticos y no diabéticos, basándose en diversos factores de riesgo.\n",
    "\n",
    "**Técnicas de clasificación empleadas y adaptaciones:**\n",
    "\n",
    "- SVM.\n",
    "- Naive Bayes.\n",
    "- KNN.\n",
    "- Árboles de decisión.\n",
    "\n",
    "**Principales resultados**\n",
    "\n",
    "Los resultados experimentales indican que el Árbol de Decisión C4.5 superó a los otros algoritmos en términos de precisión, recall y medida F, logrando una precisión del 73.5% en la predicción de la diabetes mellitus. Este hallazgo sugiere que el Árbol de Decisión C4.5 es más efectivo para este tipo de clasificación en comparación con SVM, NB y KNN."
   ]
  }
 ],
 "metadata": {
  "kernelspec": {
   "display_name": "Python 3",
   "language": "python",
   "name": "python3"
  },
  "language_info": {
   "codemirror_mode": {
    "name": "ipython",
    "version": 3
   },
   "file_extension": ".py",
   "mimetype": "text/x-python",
   "name": "python",
   "nbconvert_exporter": "python",
   "pygments_lexer": "ipython3",
   "version": "3.11.9"
  }
 },
 "nbformat": 4,
 "nbformat_minor": 5
}
